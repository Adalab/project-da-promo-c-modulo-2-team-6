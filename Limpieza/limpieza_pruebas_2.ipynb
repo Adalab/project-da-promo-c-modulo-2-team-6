{
 "cells": [
  {
   "cell_type": "code",
   "execution_count": 187,
   "metadata": {},
   "outputs": [],
   "source": [
    "import pandas as pd\n",
    "pd.options.display.max_columns = None\n",
    "import re\n",
    "import seaborn as sns\n",
    "import numpy as np\n",
    "import matplotlib.pyplot as plt\n",
    "import sidetable"
   ]
  },
  {
   "cell_type": "code",
   "execution_count": 188,
   "metadata": {},
   "outputs": [
    {
     "data": {
      "text/html": [
       "<div>\n",
       "<style scoped>\n",
       "    .dataframe tbody tr th:only-of-type {\n",
       "        vertical-align: middle;\n",
       "    }\n",
       "\n",
       "    .dataframe tbody tr th {\n",
       "        vertical-align: top;\n",
       "    }\n",
       "\n",
       "    .dataframe thead th {\n",
       "        text-align: right;\n",
       "    }\n",
       "</style>\n",
       "<table border=\"1\" class=\"dataframe\">\n",
       "  <thead>\n",
       "    <tr style=\"text-align: right;\">\n",
       "      <th></th>\n",
       "      <th>age</th>\n",
       "      <th>gender</th>\n",
       "      <th>pais</th>\n",
       "      <th>estudios</th>\n",
       "      <th>puesto_trabajo</th>\n",
       "      <th>experiencia</th>\n",
       "      <th>lenguaje_recomendado</th>\n",
       "      <th>experiencia_ML</th>\n",
       "      <th>industria</th>\n",
       "      <th>tamaño_empresa</th>\n",
       "      <th>salario</th>\n",
       "      <th>herramienta_DA</th>\n",
       "      <th>lenguaje_utilizado</th>\n",
       "      <th>IDE</th>\n",
       "      <th>herramientas_visualizacion</th>\n",
       "      <th>Q16_frame_ml</th>\n",
       "      <th>Q17_alg_ml</th>\n",
       "      <th>Q32_prod_bigdata</th>\n",
       "      <th>Q34_herramientas_bi</th>\n",
       "      <th>Q10_kaggle</th>\n",
       "      <th>Q10_colab</th>\n",
       "      <th>Q10_none</th>\n",
       "      <th>Q28</th>\n",
       "      <th>q39_plat_compartir_trabajo</th>\n",
       "      <th>q40_plat_cursos</th>\n",
       "      <th>q27_plat_familiar_cloud_computing</th>\n",
       "      <th>q29b_productos_familiar_cloud_computing</th>\n",
       "      <th>q31b_productos_familiar_ml</th>\n",
       "      <th>q32b_productos_familiar_bd</th>\n",
       "      <th>q34b_herramientas_familiar_bi</th>\n",
       "      <th>q36b_cat_herramientas_familiar_ml</th>\n",
       "      <th>q37b_cat_herramientas_familiar_ml_aut</th>\n",
       "      <th>q38b_herramientas_familiar_gest_exp_ml</th>\n",
       "    </tr>\n",
       "  </thead>\n",
       "  <tbody>\n",
       "    <tr>\n",
       "      <th>0</th>\n",
       "      <td>50-54</td>\n",
       "      <td>Man</td>\n",
       "      <td>India</td>\n",
       "      <td>Bachelor’s degree</td>\n",
       "      <td>Other</td>\n",
       "      <td>5-10 years</td>\n",
       "      <td>Python</td>\n",
       "      <td>5-10 years</td>\n",
       "      <td>Manufacturing/Fabrication</td>\n",
       "      <td>50-249 employees</td>\n",
       "      <td>29999.0</td>\n",
       "      <td>Local development environments (RStudio, Jupyt...</td>\n",
       "      <td>Python, R</td>\n",
       "      <td>Vim / Emacs</td>\n",
       "      <td>Matplotlib ,Seaborn ,Ggplot / ggplot2 ,Shiny ...</td>\n",
       "      <td>Scikit-learn , TensorFlow ,Caret</td>\n",
       "      <td>Linear or Logistic Regression, Decision Trees ...</td>\n",
       "      <td>PostgreSQL</td>\n",
       "      <td>None</td>\n",
       "      <td>NaN</td>\n",
       "      <td>Colab Notebooks</td>\n",
       "      <td>NaN</td>\n",
       "      <td>NaN</td>\n",
       "      <td>GitHub , Kaggle</td>\n",
       "      <td>Coursera,edX,Kaggle Learn Courses,DataCamp,Uda...</td>\n",
       "      <td>NaN</td>\n",
       "      <td>NaN</td>\n",
       "      <td>NaN</td>\n",
       "      <td>NaN</td>\n",
       "      <td>NaN</td>\n",
       "      <td>NaN</td>\n",
       "      <td>NaN</td>\n",
       "      <td>NaN</td>\n",
       "    </tr>\n",
       "    <tr>\n",
       "      <th>1</th>\n",
       "      <td>50-54</td>\n",
       "      <td>Man</td>\n",
       "      <td>Indonesia</td>\n",
       "      <td>Master’s degree</td>\n",
       "      <td>Program/Project Manager</td>\n",
       "      <td>20+ years</td>\n",
       "      <td>Python</td>\n",
       "      <td>&lt; 1 year</td>\n",
       "      <td>Manufacturing/Fabrication</td>\n",
       "      <td>1000-9,999 employees</td>\n",
       "      <td>69999.0</td>\n",
       "      <td>Advanced statistical software (SPSS, SAS, etc.)</td>\n",
       "      <td>SQL, C, C++, Java</td>\n",
       "      <td>Notepad++,Jupyter Notebook</td>\n",
       "      <td>Matplotlib</td>\n",
       "      <td>Scikit-learn</td>\n",
       "      <td>Linear or Logistic Regression, Decision Trees ...</td>\n",
       "      <td>NaN</td>\n",
       "      <td>NaN</td>\n",
       "      <td>Kaggle Notebooks</td>\n",
       "      <td>Colab Notebooks</td>\n",
       "      <td>NaN</td>\n",
       "      <td>NaN</td>\n",
       "      <td>NaN</td>\n",
       "      <td>Kaggle Learn Courses,Cloud-certification progr...</td>\n",
       "      <td>Google Cloud Platform (GCP) , Oracle Cloud</td>\n",
       "      <td>Google Cloud Compute Engine</td>\n",
       "      <td>None</td>\n",
       "      <td>MySQL ,SQLite ,Oracle Database ,Google Cloud SQL</td>\n",
       "      <td>Google Data Studio,Qlik</td>\n",
       "      <td>Automated model selection (e.g. auto-sklearn, ...</td>\n",
       "      <td>Google Cloud AutoML</td>\n",
       "      <td>None</td>\n",
       "    </tr>\n",
       "  </tbody>\n",
       "</table>\n",
       "</div>"
      ],
      "text/plain": [
       "     age gender       pais           estudios           puesto_trabajo  \\\n",
       "0  50-54    Man      India  Bachelor’s degree                    Other   \n",
       "1  50-54    Man  Indonesia    Master’s degree  Program/Project Manager   \n",
       "\n",
       "  experiencia lenguaje_recomendado experiencia_ML                  industria  \\\n",
       "0  5-10 years               Python     5-10 years  Manufacturing/Fabrication   \n",
       "1   20+ years               Python       < 1 year  Manufacturing/Fabrication   \n",
       "\n",
       "         tamaño_empresa  salario  \\\n",
       "0      50-249 employees  29999.0   \n",
       "1  1000-9,999 employees  69999.0   \n",
       "\n",
       "                                      herramienta_DA  lenguaje_utilizado  \\\n",
       "0  Local development environments (RStudio, Jupyt...           Python, R   \n",
       "1    Advanced statistical software (SPSS, SAS, etc.)   SQL, C, C++, Java   \n",
       "\n",
       "                           IDE  \\\n",
       "0                  Vim / Emacs   \n",
       "1   Notepad++,Jupyter Notebook   \n",
       "\n",
       "                          herramientas_visualizacion  \\\n",
       "0   Matplotlib ,Seaborn ,Ggplot / ggplot2 ,Shiny ...   \n",
       "1                                        Matplotlib    \n",
       "\n",
       "                        Q16_frame_ml  \\\n",
       "0  Scikit-learn , TensorFlow ,Caret    \n",
       "1                      Scikit-learn    \n",
       "\n",
       "                                          Q17_alg_ml Q32_prod_bigdata  \\\n",
       "0  Linear or Logistic Regression, Decision Trees ...      PostgreSQL    \n",
       "1  Linear or Logistic Regression, Decision Trees ...              NaN   \n",
       "\n",
       "  Q34_herramientas_bi         Q10_kaggle        Q10_colab Q10_none  Q28  \\\n",
       "0                None                NaN  Colab Notebooks      NaN  NaN   \n",
       "1                 NaN   Kaggle Notebooks  Colab Notebooks      NaN  NaN   \n",
       "\n",
       "  q39_plat_compartir_trabajo  \\\n",
       "0           GitHub , Kaggle    \n",
       "1                        NaN   \n",
       "\n",
       "                                     q40_plat_cursos  \\\n",
       "0  Coursera,edX,Kaggle Learn Courses,DataCamp,Uda...   \n",
       "1  Kaggle Learn Courses,Cloud-certification progr...   \n",
       "\n",
       "              q27_plat_familiar_cloud_computing  \\\n",
       "0                                           NaN   \n",
       "1   Google Cloud Platform (GCP) , Oracle Cloud    \n",
       "\n",
       "  q29b_productos_familiar_cloud_computing q31b_productos_familiar_ml  \\\n",
       "0                                     NaN                        NaN   \n",
       "1            Google Cloud Compute Engine                        None   \n",
       "\n",
       "                          q32b_productos_familiar_bd  \\\n",
       "0                                                NaN   \n",
       "1  MySQL ,SQLite ,Oracle Database ,Google Cloud SQL    \n",
       "\n",
       "  q34b_herramientas_familiar_bi  \\\n",
       "0                           NaN   \n",
       "1       Google Data Studio,Qlik   \n",
       "\n",
       "                   q36b_cat_herramientas_familiar_ml  \\\n",
       "0                                                NaN   \n",
       "1  Automated model selection (e.g. auto-sklearn, ...   \n",
       "\n",
       "  q37b_cat_herramientas_familiar_ml_aut q38b_herramientas_familiar_gest_exp_ml  \n",
       "0                                   NaN                                    NaN  \n",
       "1                  Google Cloud AutoML                                    None  "
      ]
     },
     "execution_count": 188,
     "metadata": {},
     "output_type": "execute_result"
    }
   ],
   "source": [
    "df = pd.read_csv(\"../Archivos/archivo_limpio_pruebas.csv\")\n",
    "df.head(2)"
   ]
  },
  {
   "attachments": {},
   "cell_type": "markdown",
   "metadata": {},
   "source": [
    "---\n",
    "### Nueva categorización columna gender\n",
    "---"
   ]
  },
  {
   "cell_type": "code",
   "execution_count": 189,
   "metadata": {},
   "outputs": [
    {
     "data": {
      "text/plain": [
       "Man                        20598\n",
       "Woman                       4890\n",
       "Prefer not to say            355\n",
       "Nonbinary                     88\n",
       "Prefer to self-describe       42\n",
       "Name: gender, dtype: int64"
      ]
     },
     "execution_count": 189,
     "metadata": {},
     "output_type": "execute_result"
    }
   ],
   "source": [
    "# Visualizamos los tres últimos grupos que queremos agrupar en 'otros'\n",
    "df.gender.value_counts()"
   ]
  },
  {
   "cell_type": "code",
   "execution_count": 190,
   "metadata": {},
   "outputs": [],
   "source": [
    "# Creamos un diccionario para el mapeo\n",
    "mapa = {\"Woman\": \"Woman\",\n",
    "        \"Man\": \"Man\",\n",
    "        \"Nonbinary\": \"Other\", \n",
    "        \"Prefer not to say\": \"Other\",\n",
    "        \"Prefer to self-describe\": \"Other\"} "
   ]
  },
  {
   "cell_type": "code",
   "execution_count": 191,
   "metadata": {},
   "outputs": [],
   "source": [
    "# Aplicamos a la columna el método \n",
    "df[\"gender\"]= df[\"gender\"].map(mapa)"
   ]
  },
  {
   "cell_type": "code",
   "execution_count": 192,
   "metadata": {},
   "outputs": [
    {
     "data": {
      "text/plain": [
       "Man      20598\n",
       "Woman     4890\n",
       "Other      485\n",
       "Name: gender, dtype: int64"
      ]
     },
     "execution_count": 192,
     "metadata": {},
     "output_type": "execute_result"
    }
   ],
   "source": [
    "# Comprobamos los cambios\n",
    "df.gender.value_counts()"
   ]
  },
  {
   "cell_type": "code",
   "execution_count": 193,
   "metadata": {},
   "outputs": [],
   "source": [
    "# Renombramos las dos últimas columnas y así tener todas en el mismo idioma\n",
    "nuevas_col = {'gender': 'genero', 'age': 'edad'}\n",
    "df.rename(columns = nuevas_col, inplace=True)"
   ]
  },
  {
   "cell_type": "code",
   "execution_count": 194,
   "metadata": {},
   "outputs": [
    {
     "data": {
      "text/html": [
       "<div>\n",
       "<style scoped>\n",
       "    .dataframe tbody tr th:only-of-type {\n",
       "        vertical-align: middle;\n",
       "    }\n",
       "\n",
       "    .dataframe tbody tr th {\n",
       "        vertical-align: top;\n",
       "    }\n",
       "\n",
       "    .dataframe thead th {\n",
       "        text-align: right;\n",
       "    }\n",
       "</style>\n",
       "<table border=\"1\" class=\"dataframe\">\n",
       "  <thead>\n",
       "    <tr style=\"text-align: right;\">\n",
       "      <th></th>\n",
       "      <th>edad</th>\n",
       "      <th>genero</th>\n",
       "      <th>pais</th>\n",
       "      <th>estudios</th>\n",
       "      <th>puesto_trabajo</th>\n",
       "      <th>experiencia</th>\n",
       "      <th>lenguaje_recomendado</th>\n",
       "      <th>experiencia_ML</th>\n",
       "      <th>industria</th>\n",
       "      <th>tamaño_empresa</th>\n",
       "      <th>salario</th>\n",
       "      <th>herramienta_DA</th>\n",
       "      <th>lenguaje_utilizado</th>\n",
       "      <th>IDE</th>\n",
       "      <th>herramientas_visualizacion</th>\n",
       "      <th>Q16_frame_ml</th>\n",
       "      <th>Q17_alg_ml</th>\n",
       "      <th>Q32_prod_bigdata</th>\n",
       "      <th>Q34_herramientas_bi</th>\n",
       "      <th>Q10_kaggle</th>\n",
       "      <th>Q10_colab</th>\n",
       "      <th>Q10_none</th>\n",
       "      <th>Q28</th>\n",
       "      <th>q39_plat_compartir_trabajo</th>\n",
       "      <th>q40_plat_cursos</th>\n",
       "      <th>q27_plat_familiar_cloud_computing</th>\n",
       "      <th>q29b_productos_familiar_cloud_computing</th>\n",
       "      <th>q31b_productos_familiar_ml</th>\n",
       "      <th>q32b_productos_familiar_bd</th>\n",
       "      <th>q34b_herramientas_familiar_bi</th>\n",
       "      <th>q36b_cat_herramientas_familiar_ml</th>\n",
       "      <th>q37b_cat_herramientas_familiar_ml_aut</th>\n",
       "      <th>q38b_herramientas_familiar_gest_exp_ml</th>\n",
       "    </tr>\n",
       "  </thead>\n",
       "  <tbody>\n",
       "    <tr>\n",
       "      <th>0</th>\n",
       "      <td>50-54</td>\n",
       "      <td>Man</td>\n",
       "      <td>India</td>\n",
       "      <td>Bachelor’s degree</td>\n",
       "      <td>Other</td>\n",
       "      <td>5-10 years</td>\n",
       "      <td>Python</td>\n",
       "      <td>5-10 years</td>\n",
       "      <td>Manufacturing/Fabrication</td>\n",
       "      <td>50-249 employees</td>\n",
       "      <td>29999.0</td>\n",
       "      <td>Local development environments (RStudio, Jupyt...</td>\n",
       "      <td>Python, R</td>\n",
       "      <td>Vim / Emacs</td>\n",
       "      <td>Matplotlib ,Seaborn ,Ggplot / ggplot2 ,Shiny ...</td>\n",
       "      <td>Scikit-learn , TensorFlow ,Caret</td>\n",
       "      <td>Linear or Logistic Regression, Decision Trees ...</td>\n",
       "      <td>PostgreSQL</td>\n",
       "      <td>None</td>\n",
       "      <td>NaN</td>\n",
       "      <td>Colab Notebooks</td>\n",
       "      <td>NaN</td>\n",
       "      <td>NaN</td>\n",
       "      <td>GitHub , Kaggle</td>\n",
       "      <td>Coursera,edX,Kaggle Learn Courses,DataCamp,Uda...</td>\n",
       "      <td>NaN</td>\n",
       "      <td>NaN</td>\n",
       "      <td>NaN</td>\n",
       "      <td>NaN</td>\n",
       "      <td>NaN</td>\n",
       "      <td>NaN</td>\n",
       "      <td>NaN</td>\n",
       "      <td>NaN</td>\n",
       "    </tr>\n",
       "    <tr>\n",
       "      <th>1</th>\n",
       "      <td>50-54</td>\n",
       "      <td>Man</td>\n",
       "      <td>Indonesia</td>\n",
       "      <td>Master’s degree</td>\n",
       "      <td>Program/Project Manager</td>\n",
       "      <td>20+ years</td>\n",
       "      <td>Python</td>\n",
       "      <td>&lt; 1 year</td>\n",
       "      <td>Manufacturing/Fabrication</td>\n",
       "      <td>1000-9,999 employees</td>\n",
       "      <td>69999.0</td>\n",
       "      <td>Advanced statistical software (SPSS, SAS, etc.)</td>\n",
       "      <td>SQL, C, C++, Java</td>\n",
       "      <td>Notepad++,Jupyter Notebook</td>\n",
       "      <td>Matplotlib</td>\n",
       "      <td>Scikit-learn</td>\n",
       "      <td>Linear or Logistic Regression, Decision Trees ...</td>\n",
       "      <td>NaN</td>\n",
       "      <td>NaN</td>\n",
       "      <td>Kaggle Notebooks</td>\n",
       "      <td>Colab Notebooks</td>\n",
       "      <td>NaN</td>\n",
       "      <td>NaN</td>\n",
       "      <td>NaN</td>\n",
       "      <td>Kaggle Learn Courses,Cloud-certification progr...</td>\n",
       "      <td>Google Cloud Platform (GCP) , Oracle Cloud</td>\n",
       "      <td>Google Cloud Compute Engine</td>\n",
       "      <td>None</td>\n",
       "      <td>MySQL ,SQLite ,Oracle Database ,Google Cloud SQL</td>\n",
       "      <td>Google Data Studio,Qlik</td>\n",
       "      <td>Automated model selection (e.g. auto-sklearn, ...</td>\n",
       "      <td>Google Cloud AutoML</td>\n",
       "      <td>None</td>\n",
       "    </tr>\n",
       "  </tbody>\n",
       "</table>\n",
       "</div>"
      ],
      "text/plain": [
       "    edad genero       pais           estudios           puesto_trabajo  \\\n",
       "0  50-54    Man      India  Bachelor’s degree                    Other   \n",
       "1  50-54    Man  Indonesia    Master’s degree  Program/Project Manager   \n",
       "\n",
       "  experiencia lenguaje_recomendado experiencia_ML                  industria  \\\n",
       "0  5-10 years               Python     5-10 years  Manufacturing/Fabrication   \n",
       "1   20+ years               Python       < 1 year  Manufacturing/Fabrication   \n",
       "\n",
       "         tamaño_empresa  salario  \\\n",
       "0      50-249 employees  29999.0   \n",
       "1  1000-9,999 employees  69999.0   \n",
       "\n",
       "                                      herramienta_DA  lenguaje_utilizado  \\\n",
       "0  Local development environments (RStudio, Jupyt...           Python, R   \n",
       "1    Advanced statistical software (SPSS, SAS, etc.)   SQL, C, C++, Java   \n",
       "\n",
       "                           IDE  \\\n",
       "0                  Vim / Emacs   \n",
       "1   Notepad++,Jupyter Notebook   \n",
       "\n",
       "                          herramientas_visualizacion  \\\n",
       "0   Matplotlib ,Seaborn ,Ggplot / ggplot2 ,Shiny ...   \n",
       "1                                        Matplotlib    \n",
       "\n",
       "                        Q16_frame_ml  \\\n",
       "0  Scikit-learn , TensorFlow ,Caret    \n",
       "1                      Scikit-learn    \n",
       "\n",
       "                                          Q17_alg_ml Q32_prod_bigdata  \\\n",
       "0  Linear or Logistic Regression, Decision Trees ...      PostgreSQL    \n",
       "1  Linear or Logistic Regression, Decision Trees ...              NaN   \n",
       "\n",
       "  Q34_herramientas_bi         Q10_kaggle        Q10_colab Q10_none  Q28  \\\n",
       "0                None                NaN  Colab Notebooks      NaN  NaN   \n",
       "1                 NaN   Kaggle Notebooks  Colab Notebooks      NaN  NaN   \n",
       "\n",
       "  q39_plat_compartir_trabajo  \\\n",
       "0           GitHub , Kaggle    \n",
       "1                        NaN   \n",
       "\n",
       "                                     q40_plat_cursos  \\\n",
       "0  Coursera,edX,Kaggle Learn Courses,DataCamp,Uda...   \n",
       "1  Kaggle Learn Courses,Cloud-certification progr...   \n",
       "\n",
       "              q27_plat_familiar_cloud_computing  \\\n",
       "0                                           NaN   \n",
       "1   Google Cloud Platform (GCP) , Oracle Cloud    \n",
       "\n",
       "  q29b_productos_familiar_cloud_computing q31b_productos_familiar_ml  \\\n",
       "0                                     NaN                        NaN   \n",
       "1            Google Cloud Compute Engine                        None   \n",
       "\n",
       "                          q32b_productos_familiar_bd  \\\n",
       "0                                                NaN   \n",
       "1  MySQL ,SQLite ,Oracle Database ,Google Cloud SQL    \n",
       "\n",
       "  q34b_herramientas_familiar_bi  \\\n",
       "0                           NaN   \n",
       "1       Google Data Studio,Qlik   \n",
       "\n",
       "                   q36b_cat_herramientas_familiar_ml  \\\n",
       "0                                                NaN   \n",
       "1  Automated model selection (e.g. auto-sklearn, ...   \n",
       "\n",
       "  q37b_cat_herramientas_familiar_ml_aut q38b_herramientas_familiar_gest_exp_ml  \n",
       "0                                   NaN                                    NaN  \n",
       "1                  Google Cloud AutoML                                    None  "
      ]
     },
     "execution_count": 194,
     "metadata": {},
     "output_type": "execute_result"
    }
   ],
   "source": [
    "df.head(2)"
   ]
  },
  {
   "cell_type": "code",
   "execution_count": 219,
   "metadata": {},
   "outputs": [
    {
     "data": {
      "text/plain": [
       "(25973, 33)"
      ]
     },
     "execution_count": 219,
     "metadata": {},
     "output_type": "execute_result"
    }
   ],
   "source": [
    "df.shape"
   ]
  },
  {
   "attachments": {},
   "cell_type": "markdown",
   "metadata": {},
   "source": [
    "---\n",
    "### DataFrame con los datos de las personas no profesionales (estudiantes y desempleados)\n",
    "---"
   ]
  },
  {
   "cell_type": "code",
   "execution_count": 263,
   "metadata": {},
   "outputs": [],
   "source": [
    "df_noprofesionales = df.loc[(df.puesto_trabajo == \"Student\") | (df.puesto_trabajo == 'Currently not employed')]"
   ]
  },
  {
   "cell_type": "code",
   "execution_count": 264,
   "metadata": {},
   "outputs": [
    {
     "data": {
      "text/plain": [
       "Student                   6804\n",
       "Currently not employed    1986\n",
       "Name: puesto_trabajo, dtype: int64"
      ]
     },
     "execution_count": 264,
     "metadata": {},
     "output_type": "execute_result"
    }
   ],
   "source": [
    "df_noprofesionales.puesto_trabajo.value_counts()"
   ]
  },
  {
   "cell_type": "code",
   "execution_count": 223,
   "metadata": {},
   "outputs": [
    {
     "data": {
      "text/plain": [
       "(8790, 33)"
      ]
     },
     "execution_count": 223,
     "metadata": {},
     "output_type": "execute_result"
    }
   ],
   "source": [
    "df_noprofesionales.shape"
   ]
  },
  {
   "cell_type": "code",
   "execution_count": null,
   "metadata": {},
   "outputs": [],
   "source": [
    "#df_noprofesionales.to_csv(\"../Archivos/df_noprofesionales.csv\")"
   ]
  },
  {
   "attachments": {},
   "cell_type": "markdown",
   "metadata": {},
   "source": [
    "---\n",
    "### DataFrame con los datos de las personas profesionales\n",
    "---"
   ]
  },
  {
   "cell_type": "code",
   "execution_count": 265,
   "metadata": {},
   "outputs": [],
   "source": [
    "df_profesionales = df.loc[(df.puesto_trabajo != 'Currently not employed') & (df.puesto_trabajo != \"Student\")]"
   ]
  },
  {
   "cell_type": "code",
   "execution_count": 225,
   "metadata": {},
   "outputs": [
    {
     "data": {
      "text/plain": [
       "Data Scientist                  3616\n",
       "Software Engineer               2449\n",
       "Other                           2393\n",
       "Data Analyst                    2301\n",
       "Research Scientist              1538\n",
       "Machine Learning Engineer       1499\n",
       "Business Analyst                 968\n",
       "Program/Project Manager          849\n",
       "Data Engineer                    668\n",
       "Product Manager                  319\n",
       "Statistician                     313\n",
       "DBA/Database Engineer            171\n",
       "Developer Relations/Advocacy      99\n",
       "Name: puesto_trabajo, dtype: int64"
      ]
     },
     "execution_count": 225,
     "metadata": {},
     "output_type": "execute_result"
    }
   ],
   "source": [
    "df_profesionales.puesto_trabajo.value_counts()"
   ]
  },
  {
   "cell_type": "code",
   "execution_count": 226,
   "metadata": {},
   "outputs": [
    {
     "data": {
      "text/plain": [
       "(17183, 33)"
      ]
     },
     "execution_count": 226,
     "metadata": {},
     "output_type": "execute_result"
    }
   ],
   "source": [
    "df_profesionales.shape"
   ]
  },
  {
   "cell_type": "code",
   "execution_count": null,
   "metadata": {},
   "outputs": [],
   "source": [
    "#df_profesionales.to_csv(\"../Archivos/df_profesionales.csv\")  "
   ]
  }
 ],
 "metadata": {
  "kernelspec": {
   "display_name": "base",
   "language": "python",
   "name": "python3"
  },
  "language_info": {
   "codemirror_mode": {
    "name": "ipython",
    "version": 3
   },
   "file_extension": ".py",
   "mimetype": "text/x-python",
   "name": "python",
   "nbconvert_exporter": "python",
   "pygments_lexer": "ipython3",
   "version": "3.9.7"
  },
  "orig_nbformat": 4,
  "vscode": {
   "interpreter": {
    "hash": "819a5c43c1fad9e35c5b1180124e231b422fc24c453463d400a90e0aae1b9c8c"
   }
  }
 },
 "nbformat": 4,
 "nbformat_minor": 2
}
