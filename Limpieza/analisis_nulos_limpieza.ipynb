{
 "cells": [
  {
   "cell_type": "code",
   "execution_count": 1,
   "metadata": {},
   "outputs": [],
   "source": [
    "import pandas as pd"
   ]
  },
  {
   "cell_type": "code",
   "execution_count": 2,
   "metadata": {},
   "outputs": [],
   "source": [
    "df = pd.read_csv(\"../Archivos/union_datos.csv\")"
   ]
  },
  {
   "attachments": {},
   "cell_type": "markdown",
   "metadata": {},
   "source": [
    "---\n",
    "\n",
    "### Analizando nulos columnas\n",
    "\n",
    "---"
   ]
  },
  {
   "cell_type": "code",
   "execution_count": 3,
   "metadata": {},
   "outputs": [],
   "source": [
    "#Definimos función para ver nulos y otra renombrar columnas\n",
    "def nulos(col_ini, col_fin):\n",
    "    no_nulos = df.loc[:, col_ini : col_fin].notnull().sum()/df.shape[0]*100 \n",
    "    for col in no_nulos.index:\n",
    "        print (col, '--->', df[col].value_counts().index[0], '--->', (df.loc[:,col].notnull().sum()/df.shape[0]*100).round(2),'%' )\n",
    "\n",
    "def renombrar(col_ini, col_fin):\n",
    "        lista =[]\n",
    "        no_nulos = df.loc[:, col_ini : col_fin].notnull().sum()/df.shape[0]*100    \n",
    "        for col in no_nulos.index:\n",
    "            nombre = df[col].value_counts().index[0]\n",
    "            lista.append(re.findall('Q\\d{2}',col)[0]+'_'+nombre.lower().strip().replace(' ','_'))\n",
    "        columnas = dict(zip(no_nulos.index, lista))\n",
    "        return columnas"
   ]
  },
  {
   "attachments": {},
   "cell_type": "markdown",
   "metadata": {},
   "source": [
    "### Q39 donde compartes publicamente tu trabajo\n",
    "\n",
    "---"
   ]
  },
  {
   "cell_type": "code",
   "execution_count": 4,
   "metadata": {},
   "outputs": [
    {
     "name": "stdout",
     "output_type": "stream",
     "text": [
      "Q39_Part_1 --->  Plotly Dash  ---> 1.13 %\n",
      "Q39_Part_2 --->  Streamlit  ---> 1.49 %\n",
      "Q39_Part_3 --->  NBViewer  ---> 0.52 %\n",
      "Q39_Part_4 --->  GitHub  ---> 17.66 %\n",
      "Q39_Part_5 --->  Personal blog  ---> 2.71 %\n",
      "Q39_Part_6 --->  Kaggle  ---> 11.8 %\n",
      "Q39_Part_7 --->  Colab  ---> 7.12 %\n",
      "Q39_Part_8 --->  Shiny  ---> 1.17 %\n",
      "Q39_Part_9 ---> I do not share my work publicly ---> 12.19 %\n",
      "Q39_OTHER ---> Other ---> 1.18 %\n"
     ]
    }
   ],
   "source": [
    "nulos('Q39_Part_1','Q39_OTHER')"
   ]
  },
  {
   "attachments": {},
   "cell_type": "markdown",
   "metadata": {},
   "source": [
    "### Q39 donde compartes publicamente tu trabajo\n",
    "    Q39_Part_1 --->  Plotly Dash  ---> 1.13 %\n",
    "    Q39_Part_2 --->  Streamlit  ---> 1.49 %\n",
    "    Q39_Part_3 --->  NBViewer  ---> 0.52 %\n",
    "    Q39_Part_4 --->  GitHub  ---> 17.66 %\n",
    "    Q39_Part_5 --->  Personal blog  ---> 2.71 %\n",
    "    Q39_Part_6 --->  Kaggle  ---> 11.8 %\n",
    "    Q39_Part_7 --->  Colab  ---> 7.12 %\n",
    "    Q39_Part_8 --->  Shiny  ---> 1.17 %\n",
    "    Q39_Part_9 ---> I do not share my work publicly ---> 12.19 %\n",
    "    Q39_OTHER ---> Other ---> 1.18 %\n"
   ]
  },
  {
   "attachments": {},
   "cell_type": "markdown",
   "metadata": {},
   "source": [
    "### Q40 en que plataformas has realizado cursos de data science\n",
    "\n",
    "---"
   ]
  },
  {
   "cell_type": "code",
   "execution_count": 5,
   "metadata": {},
   "outputs": [
    {
     "name": "stdout",
     "output_type": "stream",
     "text": [
      "Q40_Part_1 ---> Coursera ---> 37.15 %\n",
      "Q40_Part_2 ---> edX ---> 11.66 %\n",
      "Q40_Part_3 ---> Kaggle Learn Courses ---> 33.38 %\n",
      "Q40_Part_4 ---> DataCamp ---> 15.39 %\n",
      "Q40_Part_5 ---> Fast.ai ---> 4.45 %\n",
      "Q40_Part_6 ---> Udacity ---> 10.79 %\n",
      "Q40_Part_7 ---> Udemy ---> 24.79 %\n",
      "Q40_Part_8 ---> LinkedIn Learning ---> 10.37 %\n",
      "Q40_Part_9 ---> Cloud-certification programs (direct from AWS, Azure, GCP, or similar) ---> 6.95 %\n",
      "Q40_Part_10 ---> University Courses (resulting in a university degree) ---> 18.8 %\n",
      "Q40_Part_11 ---> None ---> 6.78 %\n",
      "Q40_OTHER ---> Other ---> 8.01 %\n"
     ]
    }
   ],
   "source": [
    "nulos('Q40_Part_1','Q40_OTHER')"
   ]
  },
  {
   "attachments": {},
   "cell_type": "markdown",
   "metadata": {},
   "source": [
    "### Q40 en que plataformas has realizado cursos de data science\n",
    "    Q40_Part_1 ---> Coursera ---> 37.15 %\n",
    "    Q40_Part_2 ---> edX ---> 11.66 %\n",
    "    Q40_Part_3 ---> Kaggle Learn Courses ---> 33.38 %\n",
    "    Q40_Part_4 ---> DataCamp ---> 15.39 %\n",
    "    Q40_Part_5 ---> Fast.ai ---> 4.45 %\n",
    "    Q40_Part_6 ---> Udacity ---> 10.79 %\n",
    "    Q40_Part_7 ---> Udemy ---> 24.79 %\n",
    "    Q40_Part_8 ---> LinkedIn Learning ---> 10.37 %\n",
    "    Q40_Part_9 ---> Cloud-certification programs (direct from AWS, Azure, GCP, or similar) ---> 6.95 %\n",
    "    Q40_Part_10 ---> University Courses (resulting in a university degree) ---> 18.8 %\n",
    "    Q40_Part_11 ---> None ---> 6.78 %\n",
    "    Q40_OTHER ---> Other ---> 8.01 %\n"
   ]
  },
  {
   "attachments": {},
   "cell_type": "markdown",
   "metadata": {},
   "source": [
    "### Q27B - En que plataformas de cloud computing esperas familiarizarte en los próximos 2 años\n",
    "\n",
    "---"
   ]
  },
  {
   "cell_type": "code",
   "execution_count": 6,
   "metadata": {},
   "outputs": [
    {
     "name": "stdout",
     "output_type": "stream",
     "text": [
      "Q27_B_Part_1 --->  Amazon Web Services (AWS)  ---> 28.85 %\n",
      "Q27_B_Part_2 --->  Microsoft Azure  ---> 21.75 %\n",
      "Q27_B_Part_3 --->  Google Cloud Platform (GCP)  ---> 28.81 %\n",
      "Q27_B_Part_4 --->  IBM Cloud / Red Hat  ---> 9.97 %\n",
      "Q27_B_Part_5 --->  Oracle Cloud  ---> 6.59 %\n",
      "Q27_B_Part_6 --->  SAP Cloud  ---> 3.5 %\n",
      "Q27_B_Part_7 --->  VMware Cloud  ---> 3.02 %\n",
      "Q27_B_Part_8 --->  Salesforce Cloud  ---> 3.05 %\n",
      "Q27_B_Part_9 --->  Alibaba Cloud  ---> 2.43 %\n",
      "Q27_B_Part_10 --->  Tencent Cloud  ---> 2.12 %\n",
      "Q27_B_Part_11 ---> None ---> 8.62 %\n",
      "Q27_B_OTHER ---> Other ---> 1.04 %\n"
     ]
    }
   ],
   "source": [
    "nulos('Q27_B_Part_1','Q27_B_OTHER')"
   ]
  },
  {
   "attachments": {},
   "cell_type": "markdown",
   "metadata": {},
   "source": [
    "### Q27B - En que plataformas de cloud computing esperas familiarizarte en los próximos 2 años\n",
    "    Q27_B_Part_1 --->  Amazon Web Services (AWS)  ---> 28.85 %\n",
    "    Q27_B_Part_2 --->  Microsoft Azure  ---> 21.75 %\n",
    "    Q27_B_Part_3 --->  Google Cloud Platform (GCP)  ---> 28.81 %\n",
    "    Q27_B_Part_4 --->  IBM Cloud / Red Hat  ---> 9.97 %\n",
    "    Q27_B_Part_5 --->  Oracle Cloud  ---> 6.59 %\n",
    "    Q27_B_Part_6 --->  SAP Cloud  ---> 3.5 %\n",
    "    Q27_B_Part_7 --->  VMware Cloud  ---> 3.02 %\n",
    "    Q27_B_Part_8 --->  Salesforce Cloud  ---> 3.05 %\n",
    "    Q27_B_Part_9 --->  Alibaba Cloud  ---> 2.43 %\n",
    "    Q27_B_Part_10 --->  Tencent Cloud  ---> 2.12 %\n",
    "    Q27_B_Part_11 ---> None ---> 8.62 %\n",
    "    Q27_B_OTHER ---> Other ---> 1.04 %\n"
   ]
  },
  {
   "attachments": {},
   "cell_type": "markdown",
   "metadata": {},
   "source": [
    "### Q29B - En que productos específicos de cloud computing esperas familiarizarte en los próximos 2 años\n",
    "\n",
    "---"
   ]
  },
  {
   "cell_type": "code",
   "execution_count": 7,
   "metadata": {},
   "outputs": [
    {
     "name": "stdout",
     "output_type": "stream",
     "text": [
      "Q29_B_Part_1 --->  Amazon Elastic Compute Cloud (EC2)  ---> 20.71 %\n",
      "Q29_B_Part_2 --->  Microsoft Azure Virtual Machines  ---> 22.3 %\n",
      "Q29_B_Part_3 --->  Google Cloud Compute Engine  ---> 28.86 %\n",
      "Q29_B_Part_4 ---> None ---> 3.73 %\n",
      "Q29_B_OTHER ---> Other ---> 0.3 %\n"
     ]
    }
   ],
   "source": [
    "nulos('Q29_B_Part_1','Q29_B_OTHER')"
   ]
  },
  {
   "attachments": {},
   "cell_type": "markdown",
   "metadata": {},
   "source": [
    "### Q29B - En que productos específicos de cloud computing esperas familiarizarte en los próximos 2 años\n",
    "    Q29_B_Part_1 --->  Amazon Elastic Compute Cloud (EC2)  ---> 20.71 %\n",
    "    Q29_B_Part_2 --->  Microsoft Azure Virtual Machines  ---> 22.3 %\n",
    "    Q29_B_Part_3 --->  Google Cloud Compute Engine  ---> 28.86 %\n",
    "    Q29_B_Part_4 ---> None ---> 3.73 %\n",
    "    Q29_B_OTHER ---> Other ---> 0.3 %"
   ]
  },
  {
   "cell_type": "markdown",
   "metadata": {},
   "source": [
    "### Q31B - En que productos machine learning esperas familiarizarte en los próximos 2 años\n",
    "\n",
    "---"
   ]
  },
  {
   "cell_type": "code",
   "execution_count": 9,
   "metadata": {},
   "outputs": [
    {
     "name": "stdout",
     "output_type": "stream",
     "text": [
      "Q31_B_Part_1 --->  Amazon SageMaker  ---> 14.05 %\n",
      "Q31_B_Part_2 --->  Azure Machine Learning Studio  ---> 19.36 %\n",
      "Q31_B_Part_3 --->  Google Cloud Vertex AI ---> 20.42 %\n",
      "Q31_B_Part_4 --->  DataRobot ---> 7.05 %\n",
      "Q31_B_Part_5 --->  Databricks ---> 8.48 %\n",
      "Q31_B_Part_6 --->  Dataiku ---> 2.94 %\n",
      "Q31_B_Part_7 --->  Alteryx ---> 3.05 %\n",
      "Q31_B_Part_8 --->  Rapidminer ---> 3.92 %\n",
      "Q31_B_Part_9 ---> None ---> 15.83 %\n",
      "Q31_B_OTHER ---> Other ---> 1.34 %\n"
     ]
    }
   ],
   "source": [
    "nulos('Q31_B_Part_1','Q31_B_OTHER')"
   ]
  },
  {
   "attachments": {},
   "cell_type": "markdown",
   "metadata": {},
   "source": [
    "### Q31B - En que productos machine learning esperas familiarizarte en los próximos 2 años\n",
    "    Q31_B_Part_1 --->  Amazon SageMaker  ---> 14.05 %\n",
    "    Q31_B_Part_2 --->  Azure Machine Learning Studio  ---> 19.36 %\n",
    "    Q31_B_Part_3 --->  Google Cloud Vertex AI ---> 20.42 %\n",
    "    Q31_B_Part_4 --->  DataRobot ---> 7.05 %\n",
    "    Q31_B_Part_5 --->  Databricks ---> 8.48 %\n",
    "    Q31_B_Part_6 --->  Dataiku ---> 2.94 %\n",
    "    Q31_B_Part_7 --->  Alteryx ---> 3.05 %\n",
    "    Q31_B_Part_8 --->  Rapidminer ---> 3.92 %\n",
    "    Q31_B_Part_9 ---> None ---> 15.83 %\n",
    "    Q31_B_OTHER ---> Other ---> 1.34 %"
   ]
  },
  {
   "attachments": {},
   "cell_type": "markdown",
   "metadata": {},
   "source": [
    "### Q32B - En que productos de big data esperas familiarizarte en los próximos 2 años\n",
    "\n",
    "---"
   ]
  },
  {
   "cell_type": "code",
   "execution_count": 10,
   "metadata": {},
   "outputs": [
    {
     "name": "stdout",
     "output_type": "stream",
     "text": [
      "Q32_B_Part_1 ---> MySQL  ---> 23.62 %\n",
      "Q32_B_Part_2 ---> PostgreSQL  ---> 12.66 %\n",
      "Q32_B_Part_3 ---> SQLite  ---> 11.69 %\n",
      "Q32_B_Part_4 ---> Oracle Database  ---> 8.87 %\n",
      "Q32_B_Part_5 ---> MongoDB  ---> 16.51 %\n",
      "Q32_B_Part_6 ---> Snowflake  ---> 4.18 %\n",
      "Q32_B_Part_7 ---> IBM Db2  ---> 4.6 %\n",
      "Q32_B_Part_8 ---> Microsoft SQL Server  ---> 12.1 %\n",
      "Q32_B_Part_9 ---> Microsoft Azure SQL Database  ---> 10.32 %\n",
      "Q32_B_Part_10 ---> Microsoft Azure Cosmos DB  ---> 5.97 %\n",
      "Q32_B_Part_11 ---> Amazon Redshift  ---> 4.66 %\n",
      "Q32_B_Part_12 ---> Amazon Aurora  ---> 4.55 %\n",
      "Q32_B_Part_13 ---> Amazon DynamoDB  ---> 5.75 %\n",
      "Q32_B_Part_14 ---> Amazon RDS  ---> 8.64 %\n",
      "Q32_B_Part_15 ---> Google Cloud BigQuery  ---> 10.95 %\n",
      "Q32_B_Part_16 ---> Google Cloud SQL  ---> 12.64 %\n",
      "Q32_B_Part_17 ---> Google Cloud Firestore  ---> 6.26 %\n",
      "Q32_B_Part_18 ---> Google Cloud BigTable  ---> 7.89 %\n",
      "Q32_B_Part_19 ---> Google Cloud Spanner  ---> 4.82 %\n",
      "Q32_B_Part_20 ---> None ---> 7.21 %\n",
      "Q32_B_OTHER ---> Other ---> 0.98 %\n"
     ]
    }
   ],
   "source": [
    "nulos('Q32_B_Part_1','Q32_B_OTHER')"
   ]
  },
  {
   "attachments": {},
   "cell_type": "markdown",
   "metadata": {},
   "source": [
    "### Q32B - En que productos de big data esperas familiarizarte en los próximos 2 años\n",
    "    Q32_B_Part_1 ---> MySQL  ---> 23.62 %\n",
    "    Q32_B_Part_2 ---> PostgreSQL  ---> 12.66 %\n",
    "    Q32_B_Part_3 ---> SQLite  ---> 11.69 %\n",
    "    Q32_B_Part_4 ---> Oracle Database  ---> 8.87 %\n",
    "    Q32_B_Part_5 ---> MongoDB  ---> 16.51 %\n",
    "    Q32_B_Part_6 ---> Snowflake  ---> 4.18 %\n",
    "    Q32_B_Part_7 ---> IBM Db2  ---> 4.6 %\n",
    "    Q32_B_Part_8 ---> Microsoft SQL Server  ---> 12.1 %\n",
    "    Q32_B_Part_9 ---> Microsoft Azure SQL Database  ---> 10.32 %\n",
    "    Q32_B_Part_10 ---> Microsoft Azure Cosmos DB  ---> 5.97 %\n",
    "    Q32_B_Part_11 ---> Amazon Redshift  ---> 4.66 %\n",
    "    Q32_B_Part_12 ---> Amazon Aurora  ---> 4.55 %\n",
    "    Q32_B_Part_13 ---> Amazon DynamoDB  ---> 5.75 %\n",
    "    Q32_B_Part_14 ---> Amazon RDS  ---> 8.64 %\n",
    "    Q32_B_Part_15 ---> Google Cloud BigQuery  ---> 10.95 %\n",
    "    Q32_B_Part_16 ---> Google Cloud SQL  ---> 12.64 %\n",
    "    Q32_B_Part_17 ---> Google Cloud Firestore  ---> 6.26 %\n",
    "    Q32_B_Part_18 ---> Google Cloud BigTable  ---> 7.89 %\n",
    "    Q32_B_Part_19 ---> Google Cloud Spanner  ---> 4.82 %\n",
    "    Q32_B_Part_20 ---> None ---> 7.21 %\n",
    "    Q32_B_OTHER ---> Other ---> 0.98 %\n"
   ]
  },
  {
   "attachments": {},
   "cell_type": "markdown",
   "metadata": {},
   "source": [
    "### Q34B - En que herramientas de business intelligence esperas familiarizarte en los próximos 2 años\n",
    "\n",
    "---"
   ]
  },
  {
   "cell_type": "code",
   "execution_count": 11,
   "metadata": {},
   "outputs": [
    {
     "name": "stdout",
     "output_type": "stream",
     "text": [
      "Q34_B_Part_1 ---> Microsoft Power BI ---> 18.95 %\n",
      "Q34_B_Part_2 ---> Amazon QuickSight ---> 4.88 %\n",
      "Q34_B_Part_3 ---> Google Data Studio ---> 15.75 %\n",
      "Q34_B_Part_4 ---> Looker ---> 2.15 %\n",
      "Q34_B_Part_5 ---> Tableau ---> 20.87 %\n",
      "Q34_B_Part_6 ---> Salesforce ---> 4.87 %\n",
      "Q34_B_Part_7 ---> Tableau CRM ---> 6.54 %\n",
      "Q34_B_Part_8 ---> Qlik ---> 3.01 %\n",
      "Q34_B_Part_9 ---> Domo ---> 1.06 %\n",
      "Q34_B_Part_10 ---> TIBCO Spotfire ---> 1.03 %\n",
      "Q34_B_Part_11 ---> Alteryx  ---> 2.03 %\n",
      "Q34_B_Part_12 ---> Sisense  ---> 1.21 %\n",
      "Q34_B_Part_13 ---> SAP Analytics Cloud  ---> 5.17 %\n",
      "Q34_B_Part_14 ---> Microsoft Azure Synapse  ---> 6.53 %\n",
      "Q34_B_Part_15 ---> Thoughtspot  ---> 1.01 %\n",
      "Q34_B_Part_16 ---> None ---> 11.77 %\n",
      "Q34_B_OTHER ---> Other ---> 1.12 %\n"
     ]
    }
   ],
   "source": [
    "nulos('Q34_B_Part_1','Q34_B_OTHER')"
   ]
  },
  {
   "attachments": {},
   "cell_type": "markdown",
   "metadata": {},
   "source": [
    "### Q34B - En que herramientas de business intelligence esperas familiarizarte en los próximos 2 años\n",
    "    Q34_B_Part_1 ---> Microsoft Power BI ---> 18.95 %\n",
    "    Q34_B_Part_2 ---> Amazon QuickSight ---> 4.88 %\n",
    "    Q34_B_Part_3 ---> Google Data Studio ---> 15.75 %\n",
    "    Q34_B_Part_4 ---> Looker ---> 2.15 %\n",
    "    Q34_B_Part_5 ---> Tableau ---> 20.87 %\n",
    "    Q34_B_Part_6 ---> Salesforce ---> 4.87 %\n",
    "    Q34_B_Part_7 ---> Tableau CRM ---> 6.54 %\n",
    "    Q34_B_Part_8 ---> Qlik ---> 3.01 %\n",
    "    Q34_B_Part_9 ---> Domo ---> 1.06 %\n",
    "    Q34_B_Part_10 ---> TIBCO Spotfire ---> 1.03 %\n",
    "    Q34_B_Part_11 ---> Alteryx  ---> 2.03 %\n",
    "    Q34_B_Part_12 ---> Sisense  ---> 1.21 %\n",
    "    Q34_B_Part_13 ---> SAP Analytics Cloud  ---> 5.17 %\n",
    "    Q34_B_Part_14 ---> Microsoft Azure Synapse  ---> 6.53 %\n",
    "    Q34_B_Part_15 ---> Thoughtspot  ---> 1.01 %\n",
    "    Q34_B_Part_16 ---> None ---> 11.77 %\n",
    "    Q34_B_OTHER ---> Other ---> 1.12 %"
   ]
  },
  {
   "attachments": {},
   "cell_type": "markdown",
   "metadata": {},
   "source": [
    "### Q36B - En que categorías de herramientas de machine learning esperas familiarizarte en los próximos 2 años\n",
    "\n",
    "---"
   ]
  },
  {
   "cell_type": "code",
   "execution_count": 12,
   "metadata": {},
   "outputs": [
    {
     "name": "stdout",
     "output_type": "stream",
     "text": [
      "Q36_B_Part_1 ---> Automated data augmentation (e.g. imgaug, albumentations) ---> 13.46 %\n",
      "Q36_B_Part_2 ---> Automated feature engineering/selection (e.g. tpot, boruta_py) ---> 14.05 %\n",
      "Q36_B_Part_3 ---> Automated model selection (e.g. auto-sklearn, xcessiv) ---> 18.33 %\n",
      "Q36_B_Part_4 ---> Automated model architecture searches (e.g. darts, enas) ---> 8.4 %\n",
      "Q36_B_Part_5 ---> Automated hyperparameter tuning (e.g. hyperopt, ray.tune, Vizier) ---> 12.82 %\n",
      "Q36_B_Part_6 ---> Automation of full ML pipelines (e.g. Google Cloud AutoML, H2O Driverless AI) ---> 18.3 %\n",
      "Q36_B_Part_7 ---> None ---> 12.4 %\n",
      "Q36_B_OTHER ---> Other ---> 1.24 %\n"
     ]
    }
   ],
   "source": [
    "nulos('Q36_B_Part_1','Q36_B_OTHER')"
   ]
  },
  {
   "attachments": {},
   "cell_type": "markdown",
   "metadata": {},
   "source": [
    "### Q36B - En que categorías de herramientas de machine learning esperas familiarizarte en los próximos 2 años\n",
    "    Q36_B_Part_1 ---> Automated data augmentation (e.g. imgaug, albumentations) ---> 13.46 %\n",
    "    Q36_B_Part_2 ---> Automated feature engineering/selection (e.g. tpot, boruta_py) ---> 14.05 %\n",
    "    Q36_B_Part_3 ---> Automated model selection (e.g. auto-sklearn, xcessiv) ---> 18.33 %\n",
    "    Q36_B_Part_4 ---> Automated model architecture searches (e.g. darts, enas) ---> 8.4 %\n",
    "    Q36_B_Part_5 ---> Automated hyperparameter tuning (e.g. hyperopt, ray.tune, Vizier) ---> 12.82 %\n",
    "    Q36_B_Part_6 ---> Automation of full ML pipelines (e.g. Google Cloud AutoML, H2O Driverless AI) ---> 18.3 %\n",
    "    Q36_B_Part_7 ---> None ---> 12.4 %\n",
    "    Q36_B_OTHER ---> Other ---> 1.24 %"
   ]
  },
  {
   "cell_type": "markdown",
   "metadata": {},
   "source": [
    "### Q37B - En que herramientas específicas de machine learning esperas familiarizarte en los próximos 2 años\n",
    "\n",
    "---"
   ]
  },
  {
   "cell_type": "code",
   "execution_count": 14,
   "metadata": {},
   "outputs": [
    {
     "name": "stdout",
     "output_type": "stream",
     "text": [
      "Q37_B_Part_1 --->  Google Cloud AutoML  ---> 18.55 %\n",
      "Q37_B_Part_2 --->  H2O Driverless AI   ---> 5.34 %\n",
      "Q37_B_Part_3 --->  Databricks AutoML  ---> 6.35 %\n",
      "Q37_B_Part_4 --->  DataRobot AutoML  ---> 5.95 %\n",
      "Q37_B_Part_5 --->   Amazon Sagemaker Autopilot  ---> 10.33 %\n",
      "Q37_B_Part_6 --->   Azure Automated Machine Learning  ---> 12.14 %\n",
      "Q37_B_Part_7 ---> None ---> 5.38 %\n",
      "Q37_B_OTHER ---> Other ---> 1.08 %\n"
     ]
    }
   ],
   "source": [
    "nulos('Q37_B_Part_1','Q37_B_OTHER')"
   ]
  },
  {
   "attachments": {},
   "cell_type": "markdown",
   "metadata": {},
   "source": [
    "### Q37B - En que herramientas específicas de machine learning esperas familiarizarte en los próximos 2 años\n",
    "    Q37_B_Part_1 --->  Google Cloud AutoML  ---> 18.55 %\n",
    "    Q37_B_Part_2 --->  H2O Driverless AI   ---> 5.34 %\n",
    "    Q37_B_Part_3 --->  Databricks AutoML  ---> 6.35 %\n",
    "    Q37_B_Part_4 --->  DataRobot AutoML  ---> 5.95 %\n",
    "    Q37_B_Part_5 --->   Amazon Sagemaker Autopilot  ---> 10.33 %\n",
    "    Q37_B_Part_6 --->   Azure Automated Machine Learning  ---> 12.14 %\n",
    "    Q37_B_Part_7 ---> None ---> 5.38 %\n",
    "    Q37_B_OTHER ---> Other ---> 1.08 %"
   ]
  },
  {
   "cell_type": "markdown",
   "metadata": {},
   "source": [
    "### Q38B - En que herramientas de gestion de machine learning esperas familiarizarte en los próximos 2 años\n",
    "\n",
    "---"
   ]
  },
  {
   "cell_type": "code",
   "execution_count": 16,
   "metadata": {},
   "outputs": [
    {
     "name": "stdout",
     "output_type": "stream",
     "text": [
      "Q38_B_Part_1 --->  Neptune.ai  ---> 4.91 %\n",
      "Q38_B_Part_2 --->  Weights & Biases  ---> 6.09 %\n",
      "Q38_B_Part_3 --->  Comet.ml  ---> 2.44 %\n",
      "Q38_B_Part_4 --->  Sacred + Omniboard  ---> 2.28 %\n",
      "Q38_B_Part_5 --->  TensorBoard  ---> 16.32 %\n",
      "Q38_B_Part_6 --->  Guild.ai  ---> 2.81 %\n",
      "Q38_B_Part_7 --->  Polyaxon  ---> 2.84 %\n",
      "Q38_B_Part_8 --->  ClearML  ---> 3.93 %\n",
      "Q38_B_Part_9 --->  Domino Model Monitor  ---> 2.56 %\n",
      "Q38_B_Part_10 --->  MLflow  ---> 10.58 %\n",
      "Q38_B_Part_11 ---> None ---> 17.49 %\n",
      "Q38_B_OTHER ---> Other ---> 1.45 %\n"
     ]
    }
   ],
   "source": [
    "nulos('Q38_B_Part_1','Q38_B_OTHER')"
   ]
  },
  {
   "attachments": {},
   "cell_type": "markdown",
   "metadata": {},
   "source": [
    "### Q38B - En que herramientas de gestion de machine learning esperas familiarizarte en los próximos 2 años\n",
    "    Q38_B_Part_1 --->  Neptune.ai  ---> 4.91 %\n",
    "    Q38_B_Part_2 --->  Weights & Biases  ---> 6.09 %\n",
    "    Q38_B_Part_3 --->  Comet.ml  ---> 2.44 %\n",
    "    Q38_B_Part_4 --->  Sacred + Omniboard  ---> 2.28 %\n",
    "    Q38_B_Part_5 --->  TensorBoard  ---> 16.32 %\n",
    "    Q38_B_Part_6 --->  Guild.ai  ---> 2.81 %\n",
    "    Q38_B_Part_7 --->  Polyaxon  ---> 2.84 %\n",
    "    Q38_B_Part_8 --->  ClearML  ---> 3.93 %\n",
    "    Q38_B_Part_9 --->  Domino Model Monitor  ---> 2.56 %\n",
    "    Q38_B_Part_10 --->  MLflow  ---> 10.58 %\n",
    "    Q38_B_Part_11 ---> None ---> 17.49 %\n",
    "    Q38_B_OTHER ---> Other ---> 1.45 %"
   ]
  }
 ],
 "metadata": {
  "kernelspec": {
   "display_name": "base",
   "language": "python",
   "name": "python3"
  },
  "language_info": {
   "codemirror_mode": {
    "name": "ipython",
    "version": 3
   },
   "file_extension": ".py",
   "mimetype": "text/x-python",
   "name": "python",
   "nbconvert_exporter": "python",
   "pygments_lexer": "ipython3",
   "version": "3.9.13 | packaged by conda-forge | (main, May 27 2022, 16:56:21) \n[GCC 10.3.0]"
  },
  "orig_nbformat": 4,
  "vscode": {
   "interpreter": {
    "hash": "85c042135e83639dad74b6ec6c9d943b5dc47ca281624d931a3e14168052f53c"
   }
  }
 },
 "nbformat": 4,
 "nbformat_minor": 2
}
