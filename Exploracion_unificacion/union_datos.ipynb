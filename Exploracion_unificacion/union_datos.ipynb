{
 "cells": [
  {
   "cell_type": "code",
   "execution_count": 1,
   "metadata": {},
   "outputs": [],
   "source": [
    "import pandas as pd"
   ]
  },
  {
   "cell_type": "code",
   "execution_count": 5,
   "metadata": {},
   "outputs": [],
   "source": [
    "df_xml = pd.read_csv(\"../Archivos/xml_limpio.csv\", index_col=\"index\")\n",
    "df_txt = pd.read_csv(\"../Archivos/txt_limpio.csv\", index_col=\"index\")"
   ]
  },
  {
   "cell_type": "code",
   "execution_count": 8,
   "metadata": {},
   "outputs": [],
   "source": [
    "df_txt.drop(\"Unnamed: 0\", axis= 1, inplace= True)\n",
    "df_xml.drop(\"Unnamed: 0\", axis= 1, inplace= True)"
   ]
  },
  {
   "cell_type": "code",
   "execution_count": 9,
   "metadata": {},
   "outputs": [
    {
     "data": {
      "text/html": [
       "<div>\n",
       "<style scoped>\n",
       "    .dataframe tbody tr th:only-of-type {\n",
       "        vertical-align: middle;\n",
       "    }\n",
       "\n",
       "    .dataframe tbody tr th {\n",
       "        vertical-align: top;\n",
       "    }\n",
       "\n",
       "    .dataframe thead th {\n",
       "        text-align: right;\n",
       "    }\n",
       "</style>\n",
       "<table border=\"1\" class=\"dataframe\">\n",
       "  <thead>\n",
       "    <tr style=\"text-align: right;\">\n",
       "      <th></th>\n",
       "      <th>age</th>\n",
       "      <th>gender</th>\n",
       "    </tr>\n",
       "    <tr>\n",
       "      <th>index</th>\n",
       "      <th></th>\n",
       "      <th></th>\n",
       "    </tr>\n",
       "  </thead>\n",
       "  <tbody>\n",
       "    <tr>\n",
       "      <th>0</th>\n",
       "      <td>50-54</td>\n",
       "      <td>Man</td>\n",
       "    </tr>\n",
       "    <tr>\n",
       "      <th>1</th>\n",
       "      <td>50-54</td>\n",
       "      <td>Man</td>\n",
       "    </tr>\n",
       "  </tbody>\n",
       "</table>\n",
       "</div>"
      ],
      "text/plain": [
       "         age gender\n",
       "index              \n",
       "0      50-54    Man\n",
       "1      50-54    Man"
      ]
     },
     "execution_count": 9,
     "metadata": {},
     "output_type": "execute_result"
    }
   ],
   "source": [
    "df_xml.head(2)"
   ]
  },
  {
   "cell_type": "code",
   "execution_count": 11,
   "metadata": {},
   "outputs": [
    {
     "data": {
      "text/plain": [
       "(25973, 2)"
      ]
     },
     "execution_count": 11,
     "metadata": {},
     "output_type": "execute_result"
    }
   ],
   "source": [
    "df_xml.shape"
   ]
  },
  {
   "cell_type": "code",
   "execution_count": 12,
   "metadata": {},
   "outputs": [
    {
     "data": {
      "text/plain": [
       "(25973, 17)"
      ]
     },
     "execution_count": 12,
     "metadata": {},
     "output_type": "execute_result"
    }
   ],
   "source": [
    "df_txt.shape"
   ]
  },
  {
   "cell_type": "code",
   "execution_count": 10,
   "metadata": {},
   "outputs": [
    {
     "data": {
      "text/html": [
       "<div>\n",
       "<style scoped>\n",
       "    .dataframe tbody tr th:only-of-type {\n",
       "        vertical-align: middle;\n",
       "    }\n",
       "\n",
       "    .dataframe tbody tr th {\n",
       "        vertical-align: top;\n",
       "    }\n",
       "\n",
       "    .dataframe thead th {\n",
       "        text-align: right;\n",
       "    }\n",
       "</style>\n",
       "<table border=\"1\" class=\"dataframe\">\n",
       "  <thead>\n",
       "    <tr style=\"text-align: right;\">\n",
       "      <th></th>\n",
       "      <th>pais</th>\n",
       "      <th>estudios</th>\n",
       "      <th>puesto_trabajo</th>\n",
       "      <th>experiencia</th>\n",
       "      <th>lenguaje_recomendado</th>\n",
       "      <th>experiencia_ML</th>\n",
       "      <th>industria</th>\n",
       "      <th>tamaño_empresa</th>\n",
       "      <th>salario</th>\n",
       "      <th>herramienta_DA</th>\n",
       "      <th>lenguaje_utilizado</th>\n",
       "      <th>IDE</th>\n",
       "      <th>herramientas_visualizacion</th>\n",
       "      <th>Q16</th>\n",
       "      <th>Q17</th>\n",
       "      <th>Q32</th>\n",
       "      <th>Q34</th>\n",
       "    </tr>\n",
       "    <tr>\n",
       "      <th>index</th>\n",
       "      <th></th>\n",
       "      <th></th>\n",
       "      <th></th>\n",
       "      <th></th>\n",
       "      <th></th>\n",
       "      <th></th>\n",
       "      <th></th>\n",
       "      <th></th>\n",
       "      <th></th>\n",
       "      <th></th>\n",
       "      <th></th>\n",
       "      <th></th>\n",
       "      <th></th>\n",
       "      <th></th>\n",
       "      <th></th>\n",
       "      <th></th>\n",
       "      <th></th>\n",
       "    </tr>\n",
       "  </thead>\n",
       "  <tbody>\n",
       "    <tr>\n",
       "      <th>0</th>\n",
       "      <td>India</td>\n",
       "      <td>Bachelor’s degree</td>\n",
       "      <td>Other</td>\n",
       "      <td>5-10 years</td>\n",
       "      <td>Python</td>\n",
       "      <td>5-10 years</td>\n",
       "      <td>Manufacturing/Fabrication</td>\n",
       "      <td>50-249 employees</td>\n",
       "      <td>25,000-29,999</td>\n",
       "      <td>Local development environments (RStudio, Jupyt...</td>\n",
       "      <td>Python, R</td>\n",
       "      <td>Vim / Emacs</td>\n",
       "      <td>Matplotlib ,Seaborn ,Ggplot / ggplot2 ,Shiny ...</td>\n",
       "      <td>Scikit-learn , TensorFlow ,Caret</td>\n",
       "      <td>Linear or Logistic Regression, Decision Trees ...</td>\n",
       "      <td>PostgreSQL</td>\n",
       "      <td>None</td>\n",
       "    </tr>\n",
       "    <tr>\n",
       "      <th>1</th>\n",
       "      <td>Indonesia</td>\n",
       "      <td>Master’s degree</td>\n",
       "      <td>Program/Project Manager</td>\n",
       "      <td>20+ years</td>\n",
       "      <td>Python</td>\n",
       "      <td>&lt; 1 year</td>\n",
       "      <td>Manufacturing/Fabrication</td>\n",
       "      <td>1000-9,999 employees</td>\n",
       "      <td>60,000-69,999</td>\n",
       "      <td>Advanced statistical software (SPSS, SAS, etc.)</td>\n",
       "      <td>SQL, C, C++, Java</td>\n",
       "      <td>Notepad++,Jupyter Notebook</td>\n",
       "      <td>Matplotlib</td>\n",
       "      <td>Scikit-learn</td>\n",
       "      <td>Linear or Logistic Regression, Decision Trees ...</td>\n",
       "      <td>NaN</td>\n",
       "      <td>NaN</td>\n",
       "    </tr>\n",
       "  </tbody>\n",
       "</table>\n",
       "</div>"
      ],
      "text/plain": [
       "            pais           estudios           puesto_trabajo experiencia  \\\n",
       "index                                                                      \n",
       "0          India  Bachelor’s degree                    Other  5-10 years   \n",
       "1      Indonesia    Master’s degree  Program/Project Manager   20+ years   \n",
       "\n",
       "      lenguaje_recomendado experiencia_ML                  industria  \\\n",
       "index                                                                  \n",
       "0                   Python     5-10 years  Manufacturing/Fabrication   \n",
       "1                   Python       < 1 year  Manufacturing/Fabrication   \n",
       "\n",
       "             tamaño_empresa        salario  \\\n",
       "index                                        \n",
       "0          50-249 employees  25,000-29,999   \n",
       "1      1000-9,999 employees  60,000-69,999   \n",
       "\n",
       "                                          herramienta_DA  lenguaje_utilizado  \\\n",
       "index                                                                          \n",
       "0      Local development environments (RStudio, Jupyt...           Python, R   \n",
       "1        Advanced statistical software (SPSS, SAS, etc.)   SQL, C, C++, Java   \n",
       "\n",
       "                               IDE  \\\n",
       "index                                \n",
       "0                      Vim / Emacs   \n",
       "1       Notepad++,Jupyter Notebook   \n",
       "\n",
       "                              herramientas_visualizacion  \\\n",
       "index                                                      \n",
       "0       Matplotlib ,Seaborn ,Ggplot / ggplot2 ,Shiny ...   \n",
       "1                                            Matplotlib    \n",
       "\n",
       "                                     Q16  \\\n",
       "index                                      \n",
       "0      Scikit-learn , TensorFlow ,Caret    \n",
       "1                          Scikit-learn    \n",
       "\n",
       "                                                     Q17           Q32    Q34  \n",
       "index                                                                          \n",
       "0      Linear or Logistic Regression, Decision Trees ...   PostgreSQL    None  \n",
       "1      Linear or Logistic Regression, Decision Trees ...           NaN    NaN  "
      ]
     },
     "execution_count": 10,
     "metadata": {},
     "output_type": "execute_result"
    }
   ],
   "source": [
    "df_txt.head(2)"
   ]
  },
  {
   "cell_type": "code",
   "execution_count": 13,
   "metadata": {},
   "outputs": [
    {
     "data": {
      "text/html": [
       "<div>\n",
       "<style scoped>\n",
       "    .dataframe tbody tr th:only-of-type {\n",
       "        vertical-align: middle;\n",
       "    }\n",
       "\n",
       "    .dataframe tbody tr th {\n",
       "        vertical-align: top;\n",
       "    }\n",
       "\n",
       "    .dataframe thead th {\n",
       "        text-align: right;\n",
       "    }\n",
       "</style>\n",
       "<table border=\"1\" class=\"dataframe\">\n",
       "  <thead>\n",
       "    <tr style=\"text-align: right;\">\n",
       "      <th></th>\n",
       "      <th>age</th>\n",
       "      <th>gender</th>\n",
       "      <th>pais</th>\n",
       "      <th>estudios</th>\n",
       "      <th>puesto_trabajo</th>\n",
       "      <th>experiencia</th>\n",
       "      <th>lenguaje_recomendado</th>\n",
       "      <th>experiencia_ML</th>\n",
       "      <th>industria</th>\n",
       "      <th>tamaño_empresa</th>\n",
       "      <th>salario</th>\n",
       "      <th>herramienta_DA</th>\n",
       "      <th>lenguaje_utilizado</th>\n",
       "      <th>IDE</th>\n",
       "      <th>herramientas_visualizacion</th>\n",
       "      <th>Q16</th>\n",
       "      <th>Q17</th>\n",
       "      <th>Q32</th>\n",
       "      <th>Q34</th>\n",
       "    </tr>\n",
       "    <tr>\n",
       "      <th>index</th>\n",
       "      <th></th>\n",
       "      <th></th>\n",
       "      <th></th>\n",
       "      <th></th>\n",
       "      <th></th>\n",
       "      <th></th>\n",
       "      <th></th>\n",
       "      <th></th>\n",
       "      <th></th>\n",
       "      <th></th>\n",
       "      <th></th>\n",
       "      <th></th>\n",
       "      <th></th>\n",
       "      <th></th>\n",
       "      <th></th>\n",
       "      <th></th>\n",
       "      <th></th>\n",
       "      <th></th>\n",
       "      <th></th>\n",
       "    </tr>\n",
       "  </thead>\n",
       "  <tbody>\n",
       "    <tr>\n",
       "      <th>0</th>\n",
       "      <td>50-54</td>\n",
       "      <td>Man</td>\n",
       "      <td>India</td>\n",
       "      <td>Bachelor’s degree</td>\n",
       "      <td>Other</td>\n",
       "      <td>5-10 years</td>\n",
       "      <td>Python</td>\n",
       "      <td>5-10 years</td>\n",
       "      <td>Manufacturing/Fabrication</td>\n",
       "      <td>50-249 employees</td>\n",
       "      <td>25,000-29,999</td>\n",
       "      <td>Local development environments (RStudio, Jupyt...</td>\n",
       "      <td>Python, R</td>\n",
       "      <td>Vim / Emacs</td>\n",
       "      <td>Matplotlib ,Seaborn ,Ggplot / ggplot2 ,Shiny ...</td>\n",
       "      <td>Scikit-learn , TensorFlow ,Caret</td>\n",
       "      <td>Linear or Logistic Regression, Decision Trees ...</td>\n",
       "      <td>PostgreSQL</td>\n",
       "      <td>None</td>\n",
       "    </tr>\n",
       "    <tr>\n",
       "      <th>1</th>\n",
       "      <td>50-54</td>\n",
       "      <td>Man</td>\n",
       "      <td>Indonesia</td>\n",
       "      <td>Master’s degree</td>\n",
       "      <td>Program/Project Manager</td>\n",
       "      <td>20+ years</td>\n",
       "      <td>Python</td>\n",
       "      <td>&lt; 1 year</td>\n",
       "      <td>Manufacturing/Fabrication</td>\n",
       "      <td>1000-9,999 employees</td>\n",
       "      <td>60,000-69,999</td>\n",
       "      <td>Advanced statistical software (SPSS, SAS, etc.)</td>\n",
       "      <td>SQL, C, C++, Java</td>\n",
       "      <td>Notepad++,Jupyter Notebook</td>\n",
       "      <td>Matplotlib</td>\n",
       "      <td>Scikit-learn</td>\n",
       "      <td>Linear or Logistic Regression, Decision Trees ...</td>\n",
       "      <td>NaN</td>\n",
       "      <td>NaN</td>\n",
       "    </tr>\n",
       "  </tbody>\n",
       "</table>\n",
       "</div>"
      ],
      "text/plain": [
       "         age gender       pais           estudios           puesto_trabajo  \\\n",
       "index                                                                        \n",
       "0      50-54    Man      India  Bachelor’s degree                    Other   \n",
       "1      50-54    Man  Indonesia    Master’s degree  Program/Project Manager   \n",
       "\n",
       "      experiencia lenguaje_recomendado experiencia_ML  \\\n",
       "index                                                   \n",
       "0      5-10 years               Python     5-10 years   \n",
       "1       20+ years               Python       < 1 year   \n",
       "\n",
       "                       industria        tamaño_empresa        salario  \\\n",
       "index                                                                   \n",
       "0      Manufacturing/Fabrication      50-249 employees  25,000-29,999   \n",
       "1      Manufacturing/Fabrication  1000-9,999 employees  60,000-69,999   \n",
       "\n",
       "                                          herramienta_DA  lenguaje_utilizado  \\\n",
       "index                                                                          \n",
       "0      Local development environments (RStudio, Jupyt...           Python, R   \n",
       "1        Advanced statistical software (SPSS, SAS, etc.)   SQL, C, C++, Java   \n",
       "\n",
       "                               IDE  \\\n",
       "index                                \n",
       "0                      Vim / Emacs   \n",
       "1       Notepad++,Jupyter Notebook   \n",
       "\n",
       "                              herramientas_visualizacion  \\\n",
       "index                                                      \n",
       "0       Matplotlib ,Seaborn ,Ggplot / ggplot2 ,Shiny ...   \n",
       "1                                            Matplotlib    \n",
       "\n",
       "                                     Q16  \\\n",
       "index                                      \n",
       "0      Scikit-learn , TensorFlow ,Caret    \n",
       "1                          Scikit-learn    \n",
       "\n",
       "                                                     Q17           Q32    Q34  \n",
       "index                                                                          \n",
       "0      Linear or Logistic Regression, Decision Trees ...   PostgreSQL    None  \n",
       "1      Linear or Logistic Regression, Decision Trees ...           NaN    NaN  "
      ]
     },
     "execution_count": 13,
     "metadata": {},
     "output_type": "execute_result"
    }
   ],
   "source": [
    "df_join = df_xml.join(df_txt, on= \"index\")\n",
    "df_join.head(2)"
   ]
  },
  {
   "cell_type": "code",
   "execution_count": 14,
   "metadata": {},
   "outputs": [
    {
     "data": {
      "text/plain": [
       "(25973, 19)"
      ]
     },
     "execution_count": 14,
     "metadata": {},
     "output_type": "execute_result"
    }
   ],
   "source": [
    "df_join.shape"
   ]
  }
 ],
 "metadata": {
  "kernelspec": {
   "display_name": "base",
   "language": "python",
   "name": "python3"
  },
  "language_info": {
   "codemirror_mode": {
    "name": "ipython",
    "version": 3
   },
   "file_extension": ".py",
   "mimetype": "text/x-python",
   "name": "python",
   "nbconvert_exporter": "python",
   "pygments_lexer": "ipython3",
   "version": "3.9.7"
  },
  "orig_nbformat": 4,
  "vscode": {
   "interpreter": {
    "hash": "f25093244bacc7e62393c275f4a06a2027bcbdb9a67d7fe53680dbd2484adc03"
   }
  }
 },
 "nbformat": 4,
 "nbformat_minor": 2
}
