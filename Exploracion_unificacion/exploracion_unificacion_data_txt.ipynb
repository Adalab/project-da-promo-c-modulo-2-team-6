{
 "cells": [
  {
   "attachments": {},
   "cell_type": "markdown",
   "metadata": {},
   "source": [
    "### APERTURA Y EXPLORACIÓN DEL ARCHIVO: ***data_txt_clean.txt***\n",
    "---"
   ]
  },
  {
   "cell_type": "code",
   "execution_count": null,
   "metadata": {},
   "outputs": [],
   "source": [
    "# Importamos las librerias\n",
    "\n",
    "import pandas as pd\n",
    "import numpy as np"
   ]
  },
  {
   "cell_type": "code",
   "execution_count": null,
   "metadata": {},
   "outputs": [],
   "source": [
    "# Abrimos el archivo, las primeras líneas del DataFrame\n",
    "data_txt = pd.read_csv('../Archivos/data_txt_clean.txt', sep =';')\n",
    "data_txt.head()"
   ]
  },
  {
   "cell_type": "code",
   "execution_count": null,
   "metadata": {},
   "outputs": [],
   "source": [
    "# Listamos las columnas que tiene el DF\n",
    "\n",
    "list(data_txt.columns)"
   ]
  },
  {
   "cell_type": "code",
   "execution_count": null,
   "metadata": {},
   "outputs": [],
   "source": [
    "# Vemos la forma que tiene el DF\n",
    "\n",
    "data_txt.shape\n",
    "f'Las filas y columnas del archivo son {data_txt.shape}'"
   ]
  },
  {
   "cell_type": "code",
   "execution_count": null,
   "metadata": {},
   "outputs": [],
   "source": [
    "# Vemos el tamaño del DF\n",
    "\n",
    "data_txt.size"
   ]
  },
  {
   "cell_type": "code",
   "execution_count": null,
   "metadata": {},
   "outputs": [],
   "source": [
    "# Vemos la información general del DF\n",
    "\n",
    "data_txt.info()"
   ]
  },
  {
   "cell_type": "code",
   "execution_count": null,
   "metadata": {},
   "outputs": [],
   "source": [
    "# Vemos la descripción transpuesta(.T) de las columnas numéricas\n",
    "\n",
    "data_txt.describe().T"
   ]
  },
  {
   "cell_type": "code",
   "execution_count": null,
   "metadata": {},
   "outputs": [],
   "source": [
    "# Incluimos la descripción de las columnas tipo string/object\n",
    "\n",
    "data_txt.describe(include = 'object').T"
   ]
  },
  {
   "cell_type": "code",
   "execution_count": null,
   "metadata": {},
   "outputs": [],
   "source": [
    "# Comprobamos si hay filas duplicadas\n",
    "\n",
    "data_txt.duplicated().sum()"
   ]
  },
  {
   "cell_type": "code",
   "execution_count": null,
   "metadata": {},
   "outputs": [],
   "source": [
    "# Vemos el porcentaje de valores nulos \n",
    "\n",
    "data_txt.isnull().sum()/len(data_txt)*100"
   ]
  },
  {
   "attachments": {},
   "cell_type": "markdown",
   "metadata": {},
   "source": [
    "---"
   ]
  },
  {
   "attachments": {},
   "cell_type": "markdown",
   "metadata": {},
   "source": [
    "### UNIFICACIÓN Y MODIFICACIONES"
   ]
  },
  {
   "cell_type": "code",
   "execution_count": null,
   "metadata": {},
   "outputs": [],
   "source": [
    "# Renombramos las columnas\n",
    "# Creamos la variable en formato diccionario con 'el nombre antiguo' : 'y el nuevo'\n",
    "\n",
    "columnas_nuevas ={'Q3':'pais','Q4':'estudios','Q5':'puesto_trabajo','Q6':'experiencia','Q7':'lenguaje_utilizado',\n",
    "                    'Q8':'lenguaje_recomendado','Q9':'IDE','Q11':'dispositivo','Q12':'hardware',    \n",
    "                    'Q14':'herramientas_visualizacion','Q15':'experiencia_ML','Q20':'industria',\n",
    "                    'Q21':'tamaño_empresa','Q22':'responsables_DS', 'Q24':'tareas_principales',\n",
    "                    'Q25':'salario','Q41':'herramienta_DA'}"
   ]
  },
  {
   "cell_type": "code",
   "execution_count": null,
   "metadata": {},
   "outputs": [],
   "source": [
    "# Utilizamos el método .rename() para hacer efectivo el cambio de nombre de las columnas \n",
    "\n",
    "data_txt.rename(columns = columnas_nuevas,inplace = True)\n",
    "data_txt.head(2)"
   ]
  },
  {
   "cell_type": "code",
   "execution_count": null,
   "metadata": {},
   "outputs": [],
   "source": [
    "# Borramos las columnas Q33 y Q35 con el método .drop(), en las siguientes celdas comprobamos las columnas y el DF para comprobar el cambio.\n",
    "\n",
    "data_txt.drop(['Q33','Q35'], axis = 1, inplace = True) "
   ]
  },
  {
   "cell_type": "code",
   "execution_count": null,
   "metadata": {},
   "outputs": [],
   "source": [
    "data_txt.columns "
   ]
  },
  {
   "cell_type": "code",
   "execution_count": null,
   "metadata": {},
   "outputs": [],
   "source": [
    "data_txt.head(3)"
   ]
  },
  {
   "cell_type": "code",
   "execution_count": null,
   "metadata": {},
   "outputs": [],
   "source": [
    "# Exploramos la columna puesto_trabajo\n",
    "\n",
    "data_txt['puesto_trabajo'].value_counts()"
   ]
  },
  {
   "cell_type": "code",
   "execution_count": null,
   "metadata": {},
   "outputs": [],
   "source": [
    "# Exploramos la columna experiencia\n",
    "\n",
    "data_txt['experiencia'].value_counts()"
   ]
  },
  {
   "cell_type": "code",
   "execution_count": null,
   "metadata": {},
   "outputs": [],
   "source": [
    "# Exploramos la columna país\n",
    "\n",
    "data_txt['pais'].value_counts()"
   ]
  },
  {
   "cell_type": "code",
   "execution_count": null,
   "metadata": {},
   "outputs": [],
   "source": [
    "# En las siguientes celdas cambiamos y separamos toda la columna herramientas_visualización hasta convertirlo \n",
    "# en un csv para utilizar más tarde\n",
    "\n",
    "df_herramientas = data_txt['herramientas_visualizacion'].str.split(',',expand=True)"
   ]
  },
  {
   "cell_type": "code",
   "execution_count": null,
   "metadata": {},
   "outputs": [],
   "source": [
    "df_herramientas"
   ]
  },
  {
   "cell_type": "code",
   "execution_count": null,
   "metadata": {},
   "outputs": [],
   "source": [
    "# Renombramos las columnas del 'subdataframe' df_herramientas\n",
    "# Creamos la variable en formato diccionario con 'el nombre antiguo' : 'y el nuevo'\n",
    "\n",
    "columnas_nuevas2 = {0: 'Matplotlib', 1:'Seaborn', 2: 'Plotly / Plotly Express', 3: 'Ggplot / ggplot2', 4:'Shiny', \n",
    "                    5:'D3 js', 6: 'Altair', 7: 'Bokeh', 8: 'Geoplotlib', 9: 'Leaflet / Folium', 10: 'Other'}"
   ]
  },
  {
   "cell_type": "code",
   "execution_count": null,
   "metadata": {},
   "outputs": [],
   "source": [
    "df_herramientas.rename(columns = columnas_nuevas2, inplace = True)\n",
    "df_herramientas.head(2)"
   ]
  },
  {
   "cell_type": "code",
   "execution_count": null,
   "metadata": {},
   "outputs": [],
   "source": [
    "df_herramientas.value_counts()"
   ]
  },
  {
   "cell_type": "code",
   "execution_count": null,
   "metadata": {},
   "outputs": [],
   "source": [
    "df_sum_herramientas= pd.DataFrame(df_herramientas.notnull().sum())\n",
    "df_sum_herramientas"
   ]
  }
 ],
 "metadata": {
  "kernelspec": {
   "display_name": "base",
   "language": "python",
   "name": "python3"
  },
  "language_info": {
   "name": "python",
   "version": "3.9.7 (default, Sep 16 2021, 13:09:58) \n[GCC 7.5.0]"
  },
  "orig_nbformat": 4,
  "vscode": {
   "interpreter": {
    "hash": "819a5c43c1fad9e35c5b1180124e231b422fc24c453463d400a90e0aae1b9c8c"
   }
  }
 },
 "nbformat": 4,
 "nbformat_minor": 2
}
