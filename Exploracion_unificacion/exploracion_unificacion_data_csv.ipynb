{
 "cells": [
  {
   "attachments": {},
   "cell_type": "markdown",
   "metadata": {},
   "source": [
    "### APERTURA Y EXPLORACIÓN DEL ARCHIVO: ***exported_db_data.csv***\n",
    "---"
   ]
  },
  {
   "cell_type": "code",
   "execution_count": null,
   "metadata": {},
   "outputs": [],
   "source": [
    "# Importamos las librerias\n",
    "\n",
    "import pandas as pd\n",
    "import numpy as np"
   ]
  },
  {
   "cell_type": "code",
   "execution_count": null,
   "metadata": {},
   "outputs": [],
   "source": [
    "# Abrimos el archivo, las primeras líneas del DataFrame\n",
    "\n",
    "respuesta_q10= pd.read_csv('../Archivos/exported_db_data.csv')\n",
    "respuesta_q10.head()"
   ]
  },
  {
   "cell_type": "code",
   "execution_count": null,
   "metadata": {},
   "outputs": [],
   "source": [
    "# Listamos las columnas que tiene el DF\n",
    "\n",
    "list(respuesta_q10.columns)"
   ]
  },
  {
   "cell_type": "code",
   "execution_count": null,
   "metadata": {},
   "outputs": [],
   "source": [
    "# Vemos la forma que tiene el DF\n",
    "\n",
    "respuesta_q10.shape\n",
    "f'Las filas y columnas del archivo son {respuesta_q10.shape}'"
   ]
  },
  {
   "cell_type": "code",
   "execution_count": null,
   "metadata": {},
   "outputs": [],
   "source": [
    "# Vemos el tamaño del DF\n",
    "\n",
    "respuesta_q10.size"
   ]
  },
  {
   "cell_type": "code",
   "execution_count": null,
   "metadata": {},
   "outputs": [],
   "source": [
    "# Vemos la información general del DF\n",
    "\n",
    "respuesta_q10.info()"
   ]
  },
  {
   "cell_type": "code",
   "execution_count": null,
   "metadata": {},
   "outputs": [],
   "source": [
    "# Vemos la descripción transpuesta(.T) de las columnas numéricas\n",
    "\n",
    "respuesta_q10.describe().T"
   ]
  },
  {
   "cell_type": "code",
   "execution_count": null,
   "metadata": {},
   "outputs": [],
   "source": [
    "# Incluimos la descripción de las columnas tipo string/object\n",
    "\n",
    "respuesta_q10.describe(include = 'object').T"
   ]
  },
  {
   "cell_type": "code",
   "execution_count": null,
   "metadata": {},
   "outputs": [],
   "source": [
    "# Comprobamos si hay filas duplicadas\n",
    "\n",
    "respuesta_q10.duplicated().sum()"
   ]
  },
  {
   "cell_type": "code",
   "execution_count": null,
   "metadata": {},
   "outputs": [],
   "source": [
    "# Vemos el porcentaje de valores nulos \n",
    "\n",
    "respuesta_q10.isnull().sum()/len(respuesta_q10)*100"
   ]
  },
  {
   "attachments": {},
   "cell_type": "markdown",
   "metadata": {},
   "source": [
    "---"
   ]
  },
  {
   "attachments": {},
   "cell_type": "markdown",
   "metadata": {},
   "source": [
    "### UNIFICACIÓN Y MODIFICACIONES"
   ]
  },
  {
   "cell_type": "code",
   "execution_count": null,
   "metadata": {},
   "outputs": [],
   "source": [
    "# Del archivo respuesta_q10 lo que más nos interesa son las columnas q10_part1, q10_part2 y q10_part16\n",
    "\n",
    "notebooks = respuesta_q10.loc[:,['index','Q10_Part_1','Q10_Part_2','Q10_Part_16']]\n",
    "notebooks\n",
    "\n",
    "# --> 'notebooks' es ahora el DataFrame del archivo exported_db_data.csv, con las columnas que nos interesan"
   ]
  },
  {
   "cell_type": "code",
   "execution_count": null,
   "metadata": {},
   "outputs": [],
   "source": [
    "# Renombramos columnas \n",
    "\n",
    "columnas_nuevas1 ={'Q10_Part_1':'kaggle','Q10_Part_2':'colab','Q10_Part_16':'ninguno'}"
   ]
  },
  {
   "cell_type": "code",
   "execution_count": null,
   "metadata": {},
   "outputs": [],
   "source": [
    "notebooks.rename(columns = columnas_nuevas1,inplace = True) "
   ]
  },
  {
   "cell_type": "code",
   "execution_count": null,
   "metadata": {},
   "outputs": [],
   "source": [
    "notebooks"
   ]
  }
 ],
 "metadata": {
  "kernelspec": {
   "display_name": "base",
   "language": "python",
   "name": "python3"
  },
  "language_info": {
   "name": "python",
   "version": "3.9.7 (default, Sep 16 2021, 13:09:58) \n[GCC 7.5.0]"
  },
  "orig_nbformat": 4,
  "vscode": {
   "interpreter": {
    "hash": "819a5c43c1fad9e35c5b1180124e231b422fc24c453463d400a90e0aae1b9c8c"
   }
  }
 },
 "nbformat": 4,
 "nbformat_minor": 2
}
