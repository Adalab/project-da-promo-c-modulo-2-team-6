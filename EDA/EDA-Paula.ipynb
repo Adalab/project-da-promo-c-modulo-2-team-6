{
 "cells": [
  {
   "cell_type": "code",
   "execution_count": 29,
   "metadata": {},
   "outputs": [],
   "source": [
    "import pandas as pd\n",
    "import re\n",
    "import seaborn as sns\n",
    "import numpy as np\n",
    "import matplotlib.pyplot as plt\n",
    "from sklearn.impute import KNNImputer\n",
    "import math\n",
    "\n",
    "pd.options.display.max_columns = None\n",
    "plt.rcParams[\"figure.figsize\"] = (10,8)"
   ]
  },
  {
   "attachments": {},
   "cell_type": "markdown",
   "metadata": {},
   "source": [
    "---\n",
    "\n",
    "### Salario: para promocionar próximas formaciones q25 acorde con el puesto de trabajo(q5), el género(q2) y la edad(q1) \n",
    "\n",
    "---"
   ]
  },
  {
   "cell_type": "code",
   "execution_count": 49,
   "metadata": {},
   "outputs": [],
   "source": [
    "df = pd.read_csv(\"../Archivos/profesionales_nonull.csv\", index_col= 0)"
   ]
  },
  {
   "cell_type": "code",
   "execution_count": 31,
   "metadata": {},
   "outputs": [
    {
     "data": {
      "text/html": [
       "<div>\n",
       "<style scoped>\n",
       "    .dataframe tbody tr th:only-of-type {\n",
       "        vertical-align: middle;\n",
       "    }\n",
       "\n",
       "    .dataframe tbody tr th {\n",
       "        vertical-align: top;\n",
       "    }\n",
       "\n",
       "    .dataframe thead th {\n",
       "        text-align: right;\n",
       "    }\n",
       "</style>\n",
       "<table border=\"1\" class=\"dataframe\">\n",
       "  <thead>\n",
       "    <tr style=\"text-align: right;\">\n",
       "      <th></th>\n",
       "      <th>edad</th>\n",
       "      <th>genero</th>\n",
       "      <th>pais</th>\n",
       "      <th>estudios</th>\n",
       "      <th>puesto_trabajo</th>\n",
       "      <th>experiencia</th>\n",
       "      <th>lenguaje_recomendado</th>\n",
       "      <th>experiencia_ML</th>\n",
       "      <th>industria</th>\n",
       "      <th>tamaño_empresa</th>\n",
       "      <th>salario</th>\n",
       "      <th>herramienta_DA</th>\n",
       "      <th>lenguaje_utilizado</th>\n",
       "      <th>IDE</th>\n",
       "      <th>herramientas_visualizacion</th>\n",
       "      <th>Q16_frame_ml</th>\n",
       "      <th>Q17_alg_ml</th>\n",
       "      <th>Q32_prod_bigdata</th>\n",
       "      <th>Q34_herramientas_bi</th>\n",
       "      <th>Q28</th>\n",
       "      <th>q10_notebooks</th>\n",
       "      <th>q39_plat_compartir_trabajo</th>\n",
       "      <th>q40_plat_cursos</th>\n",
       "      <th>q27_plat_familiar_cloud_computing</th>\n",
       "      <th>q29b_productos_familiar_cloud_computing</th>\n",
       "      <th>q31b_productos_familiar_ml</th>\n",
       "      <th>q32b_productos_familiar_bd</th>\n",
       "      <th>q34b_herramientas_familiar_bi</th>\n",
       "      <th>q36b_cat_herramientas_familiar_ml</th>\n",
       "      <th>q37b_cat_herramientas_familiar_ml_aut</th>\n",
       "      <th>q38b_herramientas_familiar_gest_exp_ml</th>\n",
       "    </tr>\n",
       "  </thead>\n",
       "  <tbody>\n",
       "    <tr>\n",
       "      <th>0</th>\n",
       "      <td>50-54</td>\n",
       "      <td>Man</td>\n",
       "      <td>India</td>\n",
       "      <td>Bachelor’s degree</td>\n",
       "      <td>Other</td>\n",
       "      <td>5-10 years</td>\n",
       "      <td>Python</td>\n",
       "      <td>5-10 years</td>\n",
       "      <td>Manufacturing/Fabrication</td>\n",
       "      <td>50-249 employees</td>\n",
       "      <td>30000.0</td>\n",
       "      <td>Local development environments (RStudio, Jupyt...</td>\n",
       "      <td>Python, R</td>\n",
       "      <td>Vim / Emacs</td>\n",
       "      <td>Matplotlib ,Seaborn ,Ggplot / ggplot2 ,Shiny ...</td>\n",
       "      <td>Scikit-learn , TensorFlow ,Caret</td>\n",
       "      <td>Linear or Logistic Regression, Decision Trees ...</td>\n",
       "      <td>PostgreSQL</td>\n",
       "      <td>None</td>\n",
       "      <td>NaN</td>\n",
       "      <td>Colab Notebooks</td>\n",
       "      <td>GitHub , Kaggle</td>\n",
       "      <td>Coursera,edX,Kaggle Learn Courses,DataCamp,Uda...</td>\n",
       "      <td>NaN</td>\n",
       "      <td>NaN</td>\n",
       "      <td>NaN</td>\n",
       "      <td>NaN</td>\n",
       "      <td>NaN</td>\n",
       "      <td>NaN</td>\n",
       "      <td>NaN</td>\n",
       "      <td>NaN</td>\n",
       "    </tr>\n",
       "    <tr>\n",
       "      <th>1</th>\n",
       "      <td>50-54</td>\n",
       "      <td>Man</td>\n",
       "      <td>Indonesia</td>\n",
       "      <td>Master’s degree</td>\n",
       "      <td>Program/Project Manager</td>\n",
       "      <td>20+ years</td>\n",
       "      <td>Python</td>\n",
       "      <td>&lt; 1 year</td>\n",
       "      <td>Manufacturing/Fabrication</td>\n",
       "      <td>1000-9,999 employees</td>\n",
       "      <td>70000.0</td>\n",
       "      <td>Advanced statistical software (SPSS, SAS, etc.)</td>\n",
       "      <td>SQL, C, C++, Java</td>\n",
       "      <td>Notepad++,Jupyter Notebook</td>\n",
       "      <td>Matplotlib</td>\n",
       "      <td>Scikit-learn</td>\n",
       "      <td>Linear or Logistic Regression, Decision Trees ...</td>\n",
       "      <td>NaN</td>\n",
       "      <td>NaN</td>\n",
       "      <td>NaN</td>\n",
       "      <td>Kaggle Notebooks,Colab Notebooks</td>\n",
       "      <td>NaN</td>\n",
       "      <td>Kaggle Learn Courses,Cloud-certification progr...</td>\n",
       "      <td>Google Cloud Platform (GCP) , Oracle Cloud</td>\n",
       "      <td>Google Cloud Compute Engine</td>\n",
       "      <td>None</td>\n",
       "      <td>MySQL ,SQLite ,Oracle Database ,Google Cloud SQL</td>\n",
       "      <td>Google Data Studio,Qlik</td>\n",
       "      <td>Automated model selection (e.g. auto-sklearn, ...</td>\n",
       "      <td>Google Cloud AutoML</td>\n",
       "      <td>None</td>\n",
       "    </tr>\n",
       "    <tr>\n",
       "      <th>2</th>\n",
       "      <td>22-24</td>\n",
       "      <td>Man</td>\n",
       "      <td>Pakistan</td>\n",
       "      <td>Master’s degree</td>\n",
       "      <td>Software Engineer</td>\n",
       "      <td>1-3 years</td>\n",
       "      <td>Python</td>\n",
       "      <td>I do not use machine learning methods</td>\n",
       "      <td>Academics/Education</td>\n",
       "      <td>1000-9,999 employees</td>\n",
       "      <td>1000.0</td>\n",
       "      <td>Basic statistical software (Microsoft Excel, G...</td>\n",
       "      <td>Python, C++, Java</td>\n",
       "      <td>PyCharm ,Jupyter Notebook, Other</td>\n",
       "      <td>Matplotlib</td>\n",
       "      <td>NaN</td>\n",
       "      <td>NaN</td>\n",
       "      <td>MySQL , MongoDB</td>\n",
       "      <td>None</td>\n",
       "      <td>NaN</td>\n",
       "      <td>Kaggle Notebooks</td>\n",
       "      <td>I do not share my work publicly</td>\n",
       "      <td>DataCamp</td>\n",
       "      <td>Amazon Web Services (AWS) , Google Cloud Plat...</td>\n",
       "      <td>Microsoft Azure Virtual Machines , Google Clo...</td>\n",
       "      <td>Azure Machine Learning Studio , Google Cloud ...</td>\n",
       "      <td>MySQL ,PostgreSQL ,MongoDB</td>\n",
       "      <td>Microsoft Power BI,Tableau</td>\n",
       "      <td>Automated model selection (e.g. auto-sklearn, ...</td>\n",
       "      <td>DataRobot AutoML</td>\n",
       "      <td>TensorBoard</td>\n",
       "    </tr>\n",
       "  </tbody>\n",
       "</table>\n",
       "</div>"
      ],
      "text/plain": [
       "    edad genero       pais           estudios           puesto_trabajo  \\\n",
       "0  50-54    Man      India  Bachelor’s degree                    Other   \n",
       "1  50-54    Man  Indonesia    Master’s degree  Program/Project Manager   \n",
       "2  22-24    Man   Pakistan    Master’s degree        Software Engineer   \n",
       "\n",
       "  experiencia lenguaje_recomendado                         experiencia_ML  \\\n",
       "0  5-10 years               Python                             5-10 years   \n",
       "1   20+ years               Python                               < 1 year   \n",
       "2   1-3 years               Python  I do not use machine learning methods   \n",
       "\n",
       "                   industria        tamaño_empresa  salario  \\\n",
       "0  Manufacturing/Fabrication      50-249 employees  30000.0   \n",
       "1  Manufacturing/Fabrication  1000-9,999 employees  70000.0   \n",
       "2        Academics/Education  1000-9,999 employees   1000.0   \n",
       "\n",
       "                                      herramienta_DA  lenguaje_utilizado  \\\n",
       "0  Local development environments (RStudio, Jupyt...           Python, R   \n",
       "1    Advanced statistical software (SPSS, SAS, etc.)   SQL, C, C++, Java   \n",
       "2  Basic statistical software (Microsoft Excel, G...   Python, C++, Java   \n",
       "\n",
       "                                IDE  \\\n",
       "0                       Vim / Emacs   \n",
       "1        Notepad++,Jupyter Notebook   \n",
       "2  PyCharm ,Jupyter Notebook, Other   \n",
       "\n",
       "                          herramientas_visualizacion  \\\n",
       "0   Matplotlib ,Seaborn ,Ggplot / ggplot2 ,Shiny ...   \n",
       "1                                        Matplotlib    \n",
       "2                                        Matplotlib    \n",
       "\n",
       "                        Q16_frame_ml  \\\n",
       "0  Scikit-learn , TensorFlow ,Caret    \n",
       "1                      Scikit-learn    \n",
       "2                                NaN   \n",
       "\n",
       "                                          Q17_alg_ml  Q32_prod_bigdata  \\\n",
       "0  Linear or Logistic Regression, Decision Trees ...       PostgreSQL    \n",
       "1  Linear or Logistic Regression, Decision Trees ...               NaN   \n",
       "2                                                NaN  MySQL , MongoDB    \n",
       "\n",
       "  Q34_herramientas_bi  Q28                      q10_notebooks  \\\n",
       "0                None  NaN                    Colab Notebooks   \n",
       "1                 NaN  NaN   Kaggle Notebooks,Colab Notebooks   \n",
       "2                None  NaN                   Kaggle Notebooks   \n",
       "\n",
       "        q39_plat_compartir_trabajo  \\\n",
       "0                 GitHub , Kaggle    \n",
       "1                              NaN   \n",
       "2  I do not share my work publicly   \n",
       "\n",
       "                                     q40_plat_cursos  \\\n",
       "0  Coursera,edX,Kaggle Learn Courses,DataCamp,Uda...   \n",
       "1  Kaggle Learn Courses,Cloud-certification progr...   \n",
       "2                                           DataCamp   \n",
       "\n",
       "                   q27_plat_familiar_cloud_computing  \\\n",
       "0                                                NaN   \n",
       "1        Google Cloud Platform (GCP) , Oracle Cloud    \n",
       "2   Amazon Web Services (AWS) , Google Cloud Plat...   \n",
       "\n",
       "             q29b_productos_familiar_cloud_computing  \\\n",
       "0                                                NaN   \n",
       "1                       Google Cloud Compute Engine    \n",
       "2   Microsoft Azure Virtual Machines , Google Clo...   \n",
       "\n",
       "                          q31b_productos_familiar_ml  \\\n",
       "0                                                NaN   \n",
       "1                                               None   \n",
       "2   Azure Machine Learning Studio , Google Cloud ...   \n",
       "\n",
       "                          q32b_productos_familiar_bd  \\\n",
       "0                                                NaN   \n",
       "1  MySQL ,SQLite ,Oracle Database ,Google Cloud SQL    \n",
       "2                        MySQL ,PostgreSQL ,MongoDB    \n",
       "\n",
       "  q34b_herramientas_familiar_bi  \\\n",
       "0                           NaN   \n",
       "1       Google Data Studio,Qlik   \n",
       "2    Microsoft Power BI,Tableau   \n",
       "\n",
       "                   q36b_cat_herramientas_familiar_ml  \\\n",
       "0                                                NaN   \n",
       "1  Automated model selection (e.g. auto-sklearn, ...   \n",
       "2  Automated model selection (e.g. auto-sklearn, ...   \n",
       "\n",
       "  q37b_cat_herramientas_familiar_ml_aut q38b_herramientas_familiar_gest_exp_ml  \n",
       "0                                   NaN                                    NaN  \n",
       "1                  Google Cloud AutoML                                    None  \n",
       "2                     DataRobot AutoML                            TensorBoard   "
      ]
     },
     "execution_count": 31,
     "metadata": {},
     "output_type": "execute_result"
    }
   ],
   "source": [
    "df.head(3)"
   ]
  },
  {
   "cell_type": "code",
   "execution_count": 50,
   "metadata": {},
   "outputs": [
    {
     "data": {
      "text/plain": [
       "0"
      ]
     },
     "execution_count": 50,
     "metadata": {},
     "output_type": "execute_result"
    }
   ],
   "source": [
    "df.salario.isnull().sum()"
   ]
  },
  {
   "cell_type": "code",
   "execution_count": 51,
   "metadata": {},
   "outputs": [],
   "source": [
    "def limpiar(col):\n",
    "    try:\n",
    "        return col.replace(\"+\",\"\").split(\"-\")[0]\n",
    "    except:\n",
    "        return col"
   ]
  },
  {
   "cell_type": "code",
   "execution_count": 52,
   "metadata": {},
   "outputs": [],
   "source": [
    "df[\"edad_num\"] = df[\"edad\"].apply(limpiar).astype(\"float64\", errors= \"raise\")\n"
   ]
  },
  {
   "cell_type": "code",
   "execution_count": 53,
   "metadata": {},
   "outputs": [],
   "source": [
    "def truncar(col):\n",
    "    return math.trunc(col)"
   ]
  },
  {
   "cell_type": "code",
   "execution_count": 54,
   "metadata": {},
   "outputs": [],
   "source": [
    "df[\"salario\"] = df['salario'].apply(truncar)"
   ]
  },
  {
   "cell_type": "code",
   "execution_count": 55,
   "metadata": {},
   "outputs": [],
   "source": [
    "df[\"salario\"] = df[\"salario\"].astype(\"float64\", errors= \"raise\")"
   ]
  },
  {
   "cell_type": "code",
   "execution_count": 38,
   "metadata": {},
   "outputs": [
    {
     "data": {
      "text/plain": [
       "array([3.000000e+04, 7.000000e+04, 1.000000e+03, 4.000000e+04,\n",
       "       2.000000e+04, 8.000000e+04, 3.000000e+03, 1.500000e+04,\n",
       "                nan, 7.500000e+03, 2.500000e+04, 2.000000e+03,\n",
       "       1.250000e+05, 1.000000e+04, 5.000000e+03, 5.000000e+04,\n",
       "       6.000000e+04, 4.000000e+03, 5.000000e+05, 2.500000e+05,\n",
       "       1.500000e+05, 3.000000e+05, 9.000000e+04, 1.000000e+05,\n",
       "       2.000000e+05, 1.000001e+06, 1.000000e+06])"
      ]
     },
     "execution_count": 38,
     "metadata": {},
     "output_type": "execute_result"
    }
   ],
   "source": [
    "df[\"salario\"].unique()"
   ]
  },
  {
   "cell_type": "code",
   "execution_count": 39,
   "metadata": {},
   "outputs": [
    {
     "data": {
      "text/plain": [
       "edad                                        object\n",
       "genero                                      object\n",
       "pais                                        object\n",
       "estudios                                    object\n",
       "puesto_trabajo                              object\n",
       "experiencia                                 object\n",
       "lenguaje_recomendado                        object\n",
       "experiencia_ML                              object\n",
       "industria                                   object\n",
       "tamaño_empresa                              object\n",
       "salario                                    float64\n",
       "herramienta_DA                              object\n",
       "lenguaje_utilizado                          object\n",
       "IDE                                         object\n",
       "herramientas_visualizacion                  object\n",
       "Q16_frame_ml                                object\n",
       "Q17_alg_ml                                  object\n",
       "Q32_prod_bigdata                            object\n",
       "Q34_herramientas_bi                         object\n",
       "Q28                                         object\n",
       "q10_notebooks                               object\n",
       "q39_plat_compartir_trabajo                  object\n",
       "q40_plat_cursos                             object\n",
       "q27_plat_familiar_cloud_computing           object\n",
       "q29b_productos_familiar_cloud_computing     object\n",
       "q31b_productos_familiar_ml                  object\n",
       "q32b_productos_familiar_bd                  object\n",
       "q34b_herramientas_familiar_bi               object\n",
       "q36b_cat_herramientas_familiar_ml           object\n",
       "q37b_cat_herramientas_familiar_ml_aut       object\n",
       "q38b_herramientas_familiar_gest_exp_ml      object\n",
       "edad_num                                   float64\n",
       "dtype: object"
      ]
     },
     "execution_count": 39,
     "metadata": {},
     "output_type": "execute_result"
    }
   ],
   "source": [
    "df.dtypes"
   ]
  },
  {
   "cell_type": "code",
   "execution_count": 56,
   "metadata": {},
   "outputs": [
    {
     "data": {
      "image/png": "[encoded data removed]",
      "text/plain": [
       "<Figure size 1000x800 with 1 Axes>"
      ]
     },
     "metadata": {},
     "output_type": "display_data"
    }
   ],
   "source": [
    "fig = sns.lineplot(x='edad_num', y = 'salario', data = df, hue = 'genero')\n",
    "# cambiamos el nombre de los ejes\n",
    "fig.set(xlabel='Edad', ylabel = 'Salario')\n",
    "# ponemos título a la gráfica\n",
    "fig.set_title('Evolución de los salarios en función a la edad y el genero');"
   ]
  },
  {
   "cell_type": "code",
   "execution_count": 48,
   "metadata": {},
   "outputs": [
    {
     "data": {
      "text/plain": [
       "Man      14026\n",
       "Woman     2853\n",
       "Other      304\n",
       "Name: genero, dtype: int64"
      ]
     },
     "execution_count": 48,
     "metadata": {},
     "output_type": "execute_result"
    }
   ],
   "source": [
    "df.genero.value_counts()"
   ]
  },
  {
   "cell_type": "code",
   "execution_count": 41,
   "metadata": {},
   "outputs": [],
   "source": [
    "df_edad =df.groupby('edad')['salario'].mean().round(2)"
   ]
  },
  {
   "cell_type": "code",
   "execution_count": 42,
   "metadata": {},
   "outputs": [],
   "source": [
    "df_edad= pd.DataFrame(df_edad).reset_index()"
   ]
  },
  {
   "cell_type": "code",
   "execution_count": 43,
   "metadata": {},
   "outputs": [
    {
     "data": {
      "text/html": [
       "<div>\n",
       "<style scoped>\n",
       "    .dataframe tbody tr th:only-of-type {\n",
       "        vertical-align: middle;\n",
       "    }\n",
       "\n",
       "    .dataframe tbody tr th {\n",
       "        vertical-align: top;\n",
       "    }\n",
       "\n",
       "    .dataframe thead th {\n",
       "        text-align: right;\n",
       "    }\n",
       "</style>\n",
       "<table border=\"1\" class=\"dataframe\">\n",
       "  <thead>\n",
       "    <tr style=\"text-align: right;\">\n",
       "      <th></th>\n",
       "      <th>edad</th>\n",
       "      <th>salario</th>\n",
       "    </tr>\n",
       "  </thead>\n",
       "  <tbody>\n",
       "    <tr>\n",
       "      <th>0</th>\n",
       "      <td>18-21</td>\n",
       "      <td>15722.88</td>\n",
       "    </tr>\n",
       "    <tr>\n",
       "      <th>1</th>\n",
       "      <td>22-24</td>\n",
       "      <td>19918.74</td>\n",
       "    </tr>\n",
       "    <tr>\n",
       "      <th>2</th>\n",
       "      <td>25-29</td>\n",
       "      <td>29213.91</td>\n",
       "    </tr>\n",
       "    <tr>\n",
       "      <th>3</th>\n",
       "      <td>30-34</td>\n",
       "      <td>47932.03</td>\n",
       "    </tr>\n",
       "    <tr>\n",
       "      <th>4</th>\n",
       "      <td>35-39</td>\n",
       "      <td>59316.27</td>\n",
       "    </tr>\n",
       "  </tbody>\n",
       "</table>\n",
       "</div>"
      ],
      "text/plain": [
       "    edad   salario\n",
       "0  18-21  15722.88\n",
       "1  22-24  19918.74\n",
       "2  25-29  29213.91\n",
       "3  30-34  47932.03\n",
       "4  35-39  59316.27"
      ]
     },
     "execution_count": 43,
     "metadata": {},
     "output_type": "execute_result"
    }
   ],
   "source": [
    "df_edad.head()\n"
   ]
  }
 ],
 "metadata": {
  "kernelspec": {
   "display_name": "base",
   "language": "python",
   "name": "python3"
  },
  "language_info": {
   "codemirror_mode": {
    "name": "ipython",
    "version": 3
   },
   "file_extension": ".py",
   "mimetype": "text/x-python",
   "name": "python",
   "nbconvert_exporter": "python",
   "pygments_lexer": "ipython3",
   "version": "3.9.13 | packaged by conda-forge | (main, May 27 2022, 16:56:21) \n[GCC 10.3.0]"
  },
  "orig_nbformat": 4,
  "vscode": {
   "interpreter": {
    "hash": "85c042135e83639dad74b6ec6c9d943b5dc47ca281624d931a3e14168052f53c"
   }
  }
 },
 "nbformat": 4,
 "nbformat_minor": 2
}
